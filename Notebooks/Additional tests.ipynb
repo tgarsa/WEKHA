{
 "cells": [
  {
   "cell_type": "code",
   "execution_count": 27,
   "id": "c22cd361",
   "metadata": {},
   "outputs": [],
   "source": [
    "import pandas as pd\n",
    "import numpy as np \n",
    "\n",
    "# To have access to the database\n",
    "import psycopg2 "
   ]
  },
  {
   "cell_type": "code",
   "execution_count": 28,
   "id": "facb31be",
   "metadata": {},
   "outputs": [],
   "source": [
    "# Mac ip\n",
    "ip = \"192.168.178.36\"\n",
    "# Raspberry pi 3 IP\n",
    "# ip = \"192.168.178.172\"\n",
    "# From external connexions. \n",
    "# ip = \"saizvirtual.ddns.net\"\n",
    "\n",
    "\n",
    "conexion = psycopg2.connect( \n",
    "    host=ip,\n",
    "    port=5432,\n",
    "    database=\"wehka\",\n",
    "    user=\"postgres\",\n",
    "    password=\"lop34sw@D\")\n",
    "\n",
    "cursor=conexion.cursor()"
   ]
  },
  {
   "cell_type": "code",
   "execution_count": 29,
   "id": "2c191b33",
   "metadata": {},
   "outputs": [],
   "source": [
    "\n",
    "sql = '''\n",
    "update jugadores\n",
    "set residencia = 'Amsterdam'\n",
    "where id_jugador = 'IAGS003'\n",
    "returning *\n",
    "'''"
   ]
  },
  {
   "cell_type": "code",
   "execution_count": 30,
   "id": "65462ccd",
   "metadata": {},
   "outputs": [],
   "source": [
    "cursor.execute(sql)"
   ]
  },
  {
   "cell_type": "code",
   "execution_count": 32,
   "id": "0fc7cde6",
   "metadata": {},
   "outputs": [],
   "source": [
    "conexion.commit()"
   ]
  },
  {
   "cell_type": "code",
   "execution_count": null,
   "id": "2672f0d5",
   "metadata": {},
   "outputs": [],
   "source": []
  },
  {
   "cell_type": "code",
   "execution_count": null,
   "id": "cd4fc0df",
   "metadata": {},
   "outputs": [],
   "source": []
  },
  {
   "cell_type": "code",
   "execution_count": null,
   "id": "891f2416",
   "metadata": {},
   "outputs": [],
   "source": []
  },
  {
   "cell_type": "code",
   "execution_count": null,
   "id": "cdd027f5",
   "metadata": {},
   "outputs": [],
   "source": [
    "for cont, field in enumerate(['dni', 'email', 'telefono']):\n",
    "    print(cont, field)"
   ]
  },
  {
   "cell_type": "code",
   "execution_count": null,
   "id": "437a38e3",
   "metadata": {},
   "outputs": [],
   "source": [
    "\n"
   ]
  },
  {
   "cell_type": "code",
   "execution_count": null,
   "id": "0529fda3",
   "metadata": {},
   "outputs": [],
   "source": [
    "fn(dni=2890337, email='tgarsa@me.com', telefono=6142978911)"
   ]
  },
  {
   "cell_type": "code",
   "execution_count": null,
   "id": "013a4887",
   "metadata": {},
   "outputs": [],
   "source": [
    "\n"
   ]
  },
  {
   "cell_type": "code",
   "execution_count": null,
   "id": "c1ff9fc3",
   "metadata": {},
   "outputs": [],
   "source": []
  }
 ],
 "metadata": {
  "kernelspec": {
   "display_name": "Python 3 (ipykernel)",
   "language": "python",
   "name": "python3"
  },
  "language_info": {
   "codemirror_mode": {
    "name": "ipython",
    "version": 3
   },
   "file_extension": ".py",
   "mimetype": "text/x-python",
   "name": "python",
   "nbconvert_exporter": "python",
   "pygments_lexer": "ipython3",
   "version": "3.9.18"
  }
 },
 "nbformat": 4,
 "nbformat_minor": 5
}
