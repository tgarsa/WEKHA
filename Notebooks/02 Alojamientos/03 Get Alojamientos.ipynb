{
 "cells": [
  {
   "cell_type": "markdown",
   "id": "f0dd9623",
   "metadata": {},
   "source": [
    "# Get Player data.\n",
    "\n",
    "In this notebook we will connect to the API to download teh data of the players tio have some condittions."
   ]
  },
  {
   "cell_type": "code",
   "execution_count": 2,
   "id": "45dd6d6d",
   "metadata": {},
   "outputs": [],
   "source": [
    "# The expected imports\n",
    "\n",
    "import pandas as pd\n",
    "import numpy as np\n",
    "\n",
    "# to have access to the web service\n",
    "import requests"
   ]
  },
  {
   "cell_type": "markdown",
   "id": "668bd5f2",
   "metadata": {},
   "source": [
    "# Define the connexion."
   ]
  },
  {
   "cell_type": "code",
   "execution_count": 3,
   "id": "5b86a315",
   "metadata": {},
   "outputs": [],
   "source": [
    "# The IP of the docker server\n",
    "\n",
    "# Mac ip\n",
    "# ip = \"192.168.178.36\"\n",
    "# From external connexions. \n",
    "ip = \"saizvirtual.ddns.net\""
   ]
  },
  {
   "cell_type": "markdown",
   "id": "37ca9e4b",
   "metadata": {},
   "source": [
    "# Get Token"
   ]
  },
  {
   "cell_type": "code",
   "execution_count": 4,
   "id": "504bf752",
   "metadata": {},
   "outputs": [],
   "source": [
    "# URLs to connected with the API-service\n",
    "url = 'http://{}:5000/token'.format(ip)"
   ]
  },
  {
   "cell_type": "code",
   "execution_count": 5,
   "id": "7fab0b10",
   "metadata": {},
   "outputs": [
    {
     "data": {
      "text/plain": [
       "<Response [200]>"
      ]
     },
     "execution_count": 5,
     "metadata": {},
     "output_type": "execute_result"
    }
   ],
   "source": [
    "# Send User and Paswword\n",
    "resp = requests.post(url, \n",
    "                     data={'username': 'tgarsa',\n",
    "                           'password':'secret'}\n",
    "                    )\n",
    "# resp = requests.post(url, data={'username': 'alice', 'password':'secret'})\n",
    "resp"
   ]
  },
  {
   "cell_type": "code",
   "execution_count": 6,
   "id": "e15b2c44",
   "metadata": {},
   "outputs": [],
   "source": [
    "token = resp.json()['access_token']\n",
    "# print('Token: {}'.format(token))\n",
    "\n",
    "token_type = resp.json()['token_type']\n",
    "# print('Token Type: {}'.format(token_type))"
   ]
  },
  {
   "cell_type": "markdown",
   "id": "5ad09d71",
   "metadata": {},
   "source": [
    "## Define the Header"
   ]
  },
  {
   "cell_type": "code",
   "execution_count": 7,
   "id": "d3d9e995",
   "metadata": {},
   "outputs": [],
   "source": [
    "headers = {\"Authorization\": \"{} {}\".format(token_type, token)}"
   ]
  },
  {
   "cell_type": "code",
   "execution_count": 8,
   "id": "ff801292",
   "metadata": {},
   "outputs": [],
   "source": [
    "# headers"
   ]
  },
  {
   "cell_type": "markdown",
   "id": "65035bb6",
   "metadata": {},
   "source": [
    "## Define the search "
   ]
  },
  {
   "cell_type": "code",
   "execution_count": 9,
   "id": "06dc545e",
   "metadata": {},
   "outputs": [],
   "source": [
    "data = {}\n",
    "# data['nombre'] = 'a'\n",
    "# data['edificio'] = \n",
    "data['provincia'] =  'Madrid' \n",
    "# data['localidad'] =   'Algete'\n",
    "# data['postal'] =  28110\n",
    "# data['calle'] =   'Ayuntaniento'\n",
    "# data['numero'] =  2\n",
    "# data['anadido'] =  \n",
    "# data['accesible'] =  True\n",
    "# data['dep_cont'] =  \n",
    "# data['per_cont'] =  \n",
    "# data['tel_cont'] =  \n",
    "# data['email_cont'] =  \n",
    "# data['observaciones'] =  \n",
    "\n",
    "dj_search = pd.DataFrame.from_dict(data, orient='index').transpose()\n",
    "json_search = dj_search.to_json()"
   ]
  },
  {
   "cell_type": "code",
   "execution_count": null,
   "id": "005c3862",
   "metadata": {},
   "outputs": [],
   "source": []
  },
  {
   "cell_type": "markdown",
   "id": "6ee776b6",
   "metadata": {},
   "source": [
    "# Connect to the API"
   ]
  },
  {
   "cell_type": "code",
   "execution_count": 10,
   "id": "83555dd5",
   "metadata": {},
   "outputs": [],
   "source": [
    "# URLs to connected with the app-service\n",
    "# in this case the port is \n",
    "\n",
    "# url = 'http://{}:5000/get_player'.format(ip)\n",
    "url = 'http://{}:5000/get'.format(ip)"
   ]
  },
  {
   "cell_type": "code",
   "execution_count": 11,
   "id": "1ad7538a",
   "metadata": {},
   "outputs": [
    {
     "data": {
      "text/plain": [
       "'http://192.168.178.36:5000/get'"
      ]
     },
     "execution_count": 11,
     "metadata": {},
     "output_type": "execute_result"
    }
   ],
   "source": [
    "url"
   ]
  },
  {
   "cell_type": "code",
   "execution_count": 12,
   "id": "d12e8bc9",
   "metadata": {},
   "outputs": [],
   "source": [
    "resp = requests.get(url, \n",
    "                    json={'df_json': json_search, \n",
    "                          'table':'alojamientos'},\n",
    "                   headers=headers\n",
    "                   )"
   ]
  },
  {
   "cell_type": "code",
   "execution_count": 13,
   "id": "5365b689",
   "metadata": {},
   "outputs": [
    {
     "data": {
      "text/plain": [
       "<Response [200]>"
      ]
     },
     "execution_count": 13,
     "metadata": {},
     "output_type": "execute_result"
    }
   ],
   "source": [
    "resp"
   ]
  },
  {
   "cell_type": "code",
   "execution_count": 14,
   "id": "aaedbefb",
   "metadata": {},
   "outputs": [
    {
     "data": {
      "text/plain": [
       "[[1,\n",
       "  'LaCasaDeJuan001',\n",
       "  'la Casa de Juan',\n",
       "  None,\n",
       "  'Madrid',\n",
       "  'Algete',\n",
       "  '28110',\n",
       "  'Fuente de arriba',\n",
       "  18,\n",
       "  None,\n",
       "  True,\n",
       "  None,\n",
       "  None,\n",
       "  None,\n",
       "  None,\n",
       "  None,\n",
       "  '2024-04-01T10:14:19.564534',\n",
       "  '2024-04-01T10:14:19.564534']]"
      ]
     },
     "execution_count": 14,
     "metadata": {},
     "output_type": "execute_result"
    }
   ],
   "source": [
    "resp.json()"
   ]
  }
 ],
 "metadata": {
  "kernelspec": {
   "display_name": "Python 3 (ipykernel)",
   "language": "python",
   "name": "python3"
  },
  "language_info": {
   "codemirror_mode": {
    "name": "ipython",
    "version": 3
   },
   "file_extension": ".py",
   "mimetype": "text/x-python",
   "name": "python",
   "nbconvert_exporter": "python",
   "pygments_lexer": "ipython3",
   "version": "3.9.18"
  }
 },
 "nbformat": 4,
 "nbformat_minor": 5
}
