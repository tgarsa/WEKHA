{
 "cells": [
  {
   "cell_type": "markdown",
   "id": "77b32faa",
   "metadata": {},
   "source": [
    "# Initial Imports"
   ]
  },
  {
   "cell_type": "code",
   "execution_count": null,
   "id": "f1fee78e",
   "metadata": {},
   "outputs": [],
   "source": [
    "import pandas as pd\n",
    "import numpy as np \n",
    "\n",
    "# To have access to the database\n",
    "import requests"
   ]
  },
  {
   "cell_type": "code",
   "execution_count": null,
   "id": "dc216df3",
   "metadata": {},
   "outputs": [],
   "source": [
    "# Mac ip\n",
    "ip = \"192.168.178.36\"\n",
    "# Raspberry pi 3 IP\n",
    "# ip = \"192.168.178.172\"\n",
    "# From external connexions. \n",
    "# ip = \"saizvirtual.ddns.net\""
   ]
  },
  {
   "cell_type": "markdown",
   "id": "91b45f2c",
   "metadata": {},
   "source": [
    "# Get Token\n"
   ]
  },
  {
   "cell_type": "code",
   "execution_count": null,
   "id": "eb9a5bd5",
   "metadata": {},
   "outputs": [],
   "source": [
    "# URLs to connected with the API-service\n",
    "url = 'http://{}:5000/token'.format(ip)"
   ]
  },
  {
   "cell_type": "code",
   "execution_count": null,
   "id": "24c95244",
   "metadata": {},
   "outputs": [],
   "source": [
    "# Send User and Paswword\n",
    "resp = requests.post(url, \n",
    "                     data={'username': 'tgarsa',\n",
    "                           'password':'secret'}\n",
    "                    )\n",
    "# resp = requests.post(url, data={'username': 'alice', 'password':'secret'})\n",
    "resp"
   ]
  },
  {
   "cell_type": "code",
   "execution_count": null,
   "id": "bc2eb222",
   "metadata": {},
   "outputs": [],
   "source": [
    "token = resp.json()['access_token']\n",
    "# print('Token: {}'.format(token))\n",
    "\n",
    "token_type = resp.json()['token_type']\n",
    "# print('Token Type: {}'.format(token_type))"
   ]
  },
  {
   "cell_type": "markdown",
   "id": "60c453d3",
   "metadata": {},
   "source": [
    "## Define the Header"
   ]
  },
  {
   "cell_type": "code",
   "execution_count": null,
   "id": "f72b1f91",
   "metadata": {},
   "outputs": [],
   "source": [
    "headers = {\"Authorization\": \"{} {}\".format(token_type, token)}"
   ]
  },
  {
   "cell_type": "code",
   "execution_count": null,
   "id": "d939fc9c",
   "metadata": {},
   "outputs": [],
   "source": [
    "# headers"
   ]
  },
  {
   "cell_type": "markdown",
   "id": "bb3368c9",
   "metadata": {},
   "source": [
    "# Define data to modify "
   ]
  },
  {
   "cell_type": "code",
   "execution_count": null,
   "id": "472b8e27",
   "metadata": {},
   "outputs": [],
   "source": [
    "data = {}\n",
    "# data['id'] = ''\n",
    "# data['id_jugador'] = 'TGS001'\n",
    "# data['id_campeonato'] = 'OpenDeAlmeria001'\n",
    "# data['acc_penal'] = 0\n",
    "# data['acc_desem'] = 0 # Acumulado puntos desempates.\n",
    "# data['puesto'] = 456\n",
    "\n",
    "\n",
    "\n",
    "df_player = pd.DataFrame.from_dict(data, orient='index').transpose()\n",
    "json_player = df_player.to_json()"
   ]
  },
  {
   "cell_type": "markdown",
   "id": "167b5043",
   "metadata": {},
   "source": [
    "# Connect to the API"
   ]
  },
  {
   "cell_type": "code",
   "execution_count": null,
   "id": "af8c165d",
   "metadata": {},
   "outputs": [],
   "source": [
    "# URLs to connected with the app-service\n",
    "# in this case the port is 5000 \n",
    "\n",
    "url = 'http://{}:5000/update'.format(ip)"
   ]
  },
  {
   "cell_type": "code",
   "execution_count": null,
   "id": "60ee8067",
   "metadata": {},
   "outputs": [],
   "source": [
    "url"
   ]
  },
  {
   "cell_type": "code",
   "execution_count": null,
   "id": "59661dc8",
   "metadata": {},
   "outputs": [],
   "source": [
    "resp = requests.post(url, \n",
    "                     json={'df_json': json_player, \n",
    "                           'table':'campeonatos_jugadas'},\n",
    "                     headers=headers\n",
    "                    )"
   ]
  },
  {
   "cell_type": "code",
   "execution_count": null,
   "id": "87ea80c8",
   "metadata": {},
   "outputs": [],
   "source": [
    "resp"
   ]
  },
  {
   "cell_type": "code",
   "execution_count": null,
   "id": "83ae255d",
   "metadata": {},
   "outputs": [],
   "source": [
    "resp.reason"
   ]
  },
  {
   "cell_type": "code",
   "execution_count": null,
   "id": "9ad181b8",
   "metadata": {},
   "outputs": [],
   "source": [
    "resp.json()"
   ]
  }
 ],
 "metadata": {
  "kernelspec": {
   "display_name": "Python 3 (ipykernel)",
   "language": "python",
   "name": "python3"
  },
  "language_info": {
   "codemirror_mode": {
    "name": "ipython",
    "version": 3
   },
   "file_extension": ".py",
   "mimetype": "text/x-python",
   "name": "python",
   "nbconvert_exporter": "python",
   "pygments_lexer": "ipython3",
   "version": "3.9.18"
  }
 },
 "nbformat": 4,
 "nbformat_minor": 5
}
