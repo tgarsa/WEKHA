{
 "cells": [
  {
   "cell_type": "markdown",
   "id": "77b32faa",
   "metadata": {},
   "source": [
    "# Initial Imports"
   ]
  },
  {
   "cell_type": "code",
   "execution_count": 1,
   "id": "f1fee78e",
   "metadata": {},
   "outputs": [],
   "source": [
    "import pandas as pd\n",
    "import numpy as np \n",
    "\n",
    "# To have access to the database\n",
    "import requests"
   ]
  },
  {
   "cell_type": "code",
   "execution_count": 2,
   "id": "dc216df3",
   "metadata": {},
   "outputs": [],
   "source": [
    "# Mac ip\n",
    "# ip = \"192.168.178.36\"\n",
    "# From external connexions. \n",
    "ip = \"saizvirtual.ddns.net\""
   ]
  },
  {
   "cell_type": "markdown",
   "id": "91b45f2c",
   "metadata": {},
   "source": [
    "# Get Token\n"
   ]
  },
  {
   "cell_type": "code",
   "execution_count": 3,
   "id": "eb9a5bd5",
   "metadata": {},
   "outputs": [],
   "source": [
    "# URLs to connected with the API-service\n",
    "url = 'http://{}:5000/token'.format(ip)"
   ]
  },
  {
   "cell_type": "code",
   "execution_count": 4,
   "id": "24c95244",
   "metadata": {},
   "outputs": [
    {
     "data": {
      "text/plain": [
       "<Response [200]>"
      ]
     },
     "execution_count": 4,
     "metadata": {},
     "output_type": "execute_result"
    }
   ],
   "source": [
    "# Send User and Paswword\n",
    "resp = requests.post(url, \n",
    "                     data={'username': 'tgarsa',\n",
    "                           'password':'secret'}\n",
    "                    )\n",
    "# resp = requests.post(url, data={'username': 'alice', 'password':'secret'})\n",
    "resp"
   ]
  },
  {
   "cell_type": "code",
   "execution_count": 5,
   "id": "bc2eb222",
   "metadata": {},
   "outputs": [],
   "source": [
    "token = resp.json()['access_token']\n",
    "# print('Token: {}'.format(token))\n",
    "\n",
    "token_type = resp.json()['token_type']\n",
    "# print('Token Type: {}'.format(token_type))"
   ]
  },
  {
   "cell_type": "markdown",
   "id": "60c453d3",
   "metadata": {},
   "source": [
    "## Define the Header"
   ]
  },
  {
   "cell_type": "code",
   "execution_count": 6,
   "id": "f72b1f91",
   "metadata": {},
   "outputs": [],
   "source": [
    "headers = {\"Authorization\": \"{} {}\".format(token_type, token)}"
   ]
  },
  {
   "cell_type": "code",
   "execution_count": 7,
   "id": "d939fc9c",
   "metadata": {},
   "outputs": [],
   "source": [
    "# headers"
   ]
  },
  {
   "cell_type": "markdown",
   "id": "bb3368c9",
   "metadata": {},
   "source": [
    "# Define data to modify "
   ]
  },
  {
   "cell_type": "code",
   "execution_count": 8,
   "id": "472b8e27",
   "metadata": {},
   "outputs": [],
   "source": [
    "player = {}\n",
    "player['id'] = 'TGS001'\n",
    "# player['residencia'] = 'Porriño'\n",
    "# player['email'] = 'tGARsa@ME.com.7'\n",
    "player['observaciones'] = 'Pero del toooo'\n",
    "player['apellidos'] = \"GARCIA SAIZ\"\n",
    "\n",
    "df_player = pd.DataFrame.from_dict(player, orient='index').transpose()\n",
    "json_player = df_player.to_json()"
   ]
  },
  {
   "cell_type": "markdown",
   "id": "167b5043",
   "metadata": {},
   "source": [
    "# Connect to the API"
   ]
  },
  {
   "cell_type": "code",
   "execution_count": 9,
   "id": "af8c165d",
   "metadata": {},
   "outputs": [],
   "source": [
    "# URLs to connected with the app-service\n",
    "# in this case the port is 5000 \n",
    "\n",
    "url = 'http://{}:5000/update_player'.format(ip)"
   ]
  },
  {
   "cell_type": "code",
   "execution_count": 10,
   "id": "60ee8067",
   "metadata": {},
   "outputs": [
    {
     "data": {
      "text/plain": [
       "'http://saizvirtual.ddns.net:5000/update_player'"
      ]
     },
     "execution_count": 10,
     "metadata": {},
     "output_type": "execute_result"
    }
   ],
   "source": [
    "url"
   ]
  },
  {
   "cell_type": "code",
   "execution_count": 11,
   "id": "59661dc8",
   "metadata": {},
   "outputs": [],
   "source": [
    "resp = requests.post(url, \n",
    "                     json={'df_json': json_player},\n",
    "                     headers=headers\n",
    "                    )"
   ]
  },
  {
   "cell_type": "code",
   "execution_count": 12,
   "id": "87ea80c8",
   "metadata": {},
   "outputs": [
    {
     "data": {
      "text/plain": [
       "<Response [200]>"
      ]
     },
     "execution_count": 12,
     "metadata": {},
     "output_type": "execute_result"
    }
   ],
   "source": [
    "resp"
   ]
  },
  {
   "cell_type": "code",
   "execution_count": 13,
   "id": "83ae255d",
   "metadata": {},
   "outputs": [
    {
     "data": {
      "text/plain": [
       "'OK'"
      ]
     },
     "execution_count": 13,
     "metadata": {},
     "output_type": "execute_result"
    }
   ],
   "source": [
    "resp.reason"
   ]
  },
  {
   "cell_type": "code",
   "execution_count": 14,
   "id": "9ad181b8",
   "metadata": {},
   "outputs": [
    {
     "data": {
      "text/plain": [
       "{'label': 'Bronze Layer: OK. Silver Layer: OK. '}"
      ]
     },
     "execution_count": 14,
     "metadata": {},
     "output_type": "execute_result"
    }
   ],
   "source": [
    "resp.json()"
   ]
  }
 ],
 "metadata": {
  "kernelspec": {
   "display_name": "Python 3 (ipykernel)",
   "language": "python",
   "name": "python3"
  },
  "language_info": {
   "codemirror_mode": {
    "name": "ipython",
    "version": 3
   },
   "file_extension": ".py",
   "mimetype": "text/x-python",
   "name": "python",
   "nbconvert_exporter": "python",
   "pygments_lexer": "ipython3",
   "version": "3.9.18"
  }
 },
 "nbformat": 4,
 "nbformat_minor": 5
}
