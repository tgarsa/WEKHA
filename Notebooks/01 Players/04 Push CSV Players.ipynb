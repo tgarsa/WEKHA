{
 "cells": [
  {
   "cell_type": "markdown",
   "id": "23c954eb",
   "metadata": {},
   "source": [
    "# Push CVS Players\n",
    "\n",
    "This notebook connect with the API to load a new player into the data base."
   ]
  },
  {
   "cell_type": "code",
   "execution_count": 2,
   "id": "cef21d56",
   "metadata": {},
   "outputs": [],
   "source": [
    "# The expected imports\n",
    "\n",
    "import pandas as pd\n",
    "import numpy as np\n",
    "\n",
    "# to have access to the web service\n",
    "import requests"
   ]
  },
  {
   "cell_type": "markdown",
   "id": "a43f4ad9",
   "metadata": {},
   "source": [
    "# Define the connexion."
   ]
  },
  {
   "cell_type": "code",
   "execution_count": 3,
   "id": "bf810134",
   "metadata": {},
   "outputs": [],
   "source": [
    "# The IP of the docker server\n",
    "\n",
    "# Mac ip\n",
    "ip = \"192.168.178.36\"\n",
    "# From external connexions. \n",
    "# ip = \"saizvirtual.ddns.net\""
   ]
  },
  {
   "cell_type": "markdown",
   "id": "d897dd0a",
   "metadata": {},
   "source": [
    "# Get Token"
   ]
  },
  {
   "cell_type": "code",
   "execution_count": 4,
   "id": "da8b6d81",
   "metadata": {},
   "outputs": [],
   "source": [
    "# URLs to connected with the API-service\n",
    "url = 'http://{}:5000/token'.format(ip)"
   ]
  },
  {
   "cell_type": "code",
   "execution_count": 5,
   "id": "b542861e",
   "metadata": {},
   "outputs": [
    {
     "data": {
      "text/plain": [
       "<Response [200]>"
      ]
     },
     "execution_count": 5,
     "metadata": {},
     "output_type": "execute_result"
    }
   ],
   "source": [
    "# Send User and Paswword\n",
    "resp = requests.post(url, \n",
    "                     data={'username': 'tgarsa',\n",
    "                           'password':'secret'}\n",
    "                    )\n",
    "# resp = requests.post(url, data={'username': 'alice', 'password':'secret'})\n",
    "resp"
   ]
  },
  {
   "cell_type": "code",
   "execution_count": 6,
   "id": "5aa589aa",
   "metadata": {},
   "outputs": [],
   "source": [
    "token = resp.json()['access_token']\n",
    "# print('Token: {}'.format(token))\n",
    "\n",
    "token_type = resp.json()['token_type']\n",
    "# print('Token Type: {}'.format(token_type))"
   ]
  },
  {
   "cell_type": "markdown",
   "id": "e26c6f00",
   "metadata": {},
   "source": [
    "## Define the Header"
   ]
  },
  {
   "cell_type": "code",
   "execution_count": 7,
   "id": "e738b352",
   "metadata": {},
   "outputs": [],
   "source": [
    "headers = {\"Authorization\": \"{} {}\".format(token_type, token)}"
   ]
  },
  {
   "cell_type": "code",
   "execution_count": null,
   "id": "93d35550",
   "metadata": {},
   "outputs": [],
   "source": [
    "# headers"
   ]
  },
  {
   "cell_type": "markdown",
   "id": "29a07a1e",
   "metadata": {},
   "source": [
    "## New player. \n",
    "\n",
    "Define the new player, in this case we didn't avaluate if could be a duplicate player. But whole be necessary to do. \n",
    "\n",
    "TODO: Test if it is a real new player. "
   ]
  },
  {
   "cell_type": "code",
   "execution_count": 22,
   "id": "c51bf10d",
   "metadata": {},
   "outputs": [],
   "source": [
    "df_player =  pd.read_csv('Jugadores.csv', sep=';')"
   ]
  },
  {
   "cell_type": "code",
   "execution_count": 23,
   "id": "af43d0ae",
   "metadata": {},
   "outputs": [
    {
     "data": {
      "text/html": [
       "<div>\n",
       "<style scoped>\n",
       "    .dataframe tbody tr th:only-of-type {\n",
       "        vertical-align: middle;\n",
       "    }\n",
       "\n",
       "    .dataframe tbody tr th {\n",
       "        vertical-align: top;\n",
       "    }\n",
       "\n",
       "    .dataframe thead th {\n",
       "        text-align: right;\n",
       "    }\n",
       "</style>\n",
       "<table border=\"1\" class=\"dataframe\">\n",
       "  <thead>\n",
       "    <tr style=\"text-align: right;\">\n",
       "      <th></th>\n",
       "      <th>nombre</th>\n",
       "      <th>apellidos</th>\n",
       "      <th>dni</th>\n",
       "      <th>nick</th>\n",
       "      <th>email</th>\n",
       "      <th>telefono</th>\n",
       "      <th>residencia</th>\n",
       "      <th>pais</th>\n",
       "      <th>talla</th>\n",
       "      <th>discapacidades</th>\n",
       "      <th>observaciones</th>\n",
       "    </tr>\n",
       "  </thead>\n",
       "  <tbody>\n",
       "    <tr>\n",
       "      <th>0</th>\n",
       "      <td>Tomas</td>\n",
       "      <td>GARCIA SAIZ</td>\n",
       "      <td>2890337</td>\n",
       "      <td>Smurf</td>\n",
       "      <td>tgarsa@gamil.com</td>\n",
       "      <td>614297912</td>\n",
       "      <td>Amsterdam</td>\n",
       "      <td>Holanda</td>\n",
       "      <td>XXL</td>\n",
       "      <td>0</td>\n",
       "      <td></td>\n",
       "    </tr>\n",
       "    <tr>\n",
       "      <th>1</th>\n",
       "      <td>Maria DEL CARMEN</td>\n",
       "      <td>Saiz RUIZ</td>\n",
       "      <td>72.010.356</td>\n",
       "      <td>Carmina</td>\n",
       "      <td>carminasaizruiz@me.com</td>\n",
       "      <td>916290532</td>\n",
       "      <td>Cabezon de la Sal</td>\n",
       "      <td>España</td>\n",
       "      <td>M</td>\n",
       "      <td>0</td>\n",
       "      <td></td>\n",
       "    </tr>\n",
       "  </tbody>\n",
       "</table>\n",
       "</div>"
      ],
      "text/plain": [
       "             nombre    apellidos         dni     nick                   email  \\\n",
       "0             Tomas  GARCIA SAIZ     2890337    Smurf        tgarsa@gamil.com   \n",
       "1  Maria DEL CARMEN    Saiz RUIZ  72.010.356  Carmina  carminasaizruiz@me.com   \n",
       "\n",
       "    telefono         residencia     pais talla  discapacidades observaciones  \n",
       "0  614297912          Amsterdam  Holanda   XXL               0                \n",
       "1  916290532  Cabezon de la Sal   España     M               0                "
      ]
     },
     "execution_count": 23,
     "metadata": {},
     "output_type": "execute_result"
    }
   ],
   "source": [
    "df_player"
   ]
  },
  {
   "cell_type": "code",
   "execution_count": null,
   "id": "d0e03758",
   "metadata": {},
   "outputs": [],
   "source": [
    "# df_player = pd.DataFrame.from_dict(player, orient='index').transpose()"
   ]
  },
  {
   "cell_type": "markdown",
   "id": "7bf1f907",
   "metadata": {},
   "source": [
    "#### player"
   ]
  },
  {
   "cell_type": "code",
   "execution_count": 14,
   "id": "277664a7",
   "metadata": {},
   "outputs": [],
   "source": [
    "# df_player"
   ]
  },
  {
   "cell_type": "code",
   "execution_count": 24,
   "id": "224565bc",
   "metadata": {},
   "outputs": [],
   "source": [
    "df_json = df_player.to_json()"
   ]
  },
  {
   "cell_type": "code",
   "execution_count": 25,
   "id": "a6ce3448",
   "metadata": {},
   "outputs": [
    {
     "data": {
      "text/plain": [
       "'{\"nombre\":{\"0\":\"Tomas\",\"1\":\"Maria DEL CARMEN\"},\"apellidos\":{\"0\":\"GARCIA SAIZ\",\"1\":\"Saiz RUIZ\"},\"dni\":{\"0\":\"2890337\",\"1\":\"72.010.356\"},\"nick\":{\"0\":\"Smurf\",\"1\":\"Carmina\"},\"email\":{\"0\":\"tgarsa@gamil.com\",\"1\":\"carminasaizruiz@me.com\"},\"telefono\":{\"0\":614297912,\"1\":916290532},\"residencia\":{\"0\":\"Amsterdam\",\"1\":\"Cabezon de la Sal\"},\"pais\":{\"0\":\"Holanda\",\"1\":\"Espa\\\\u00f1a\"},\"talla\":{\"0\":\"XXL\",\"1\":\"M\"},\"discapacidades\":{\"0\":0,\"1\":0},\"observaciones\":{\"0\":\" \",\"1\":\" \"}}'"
      ]
     },
     "execution_count": 25,
     "metadata": {},
     "output_type": "execute_result"
    }
   ],
   "source": [
    "df_json"
   ]
  },
  {
   "cell_type": "markdown",
   "id": "d8c94fec",
   "metadata": {},
   "source": [
    "# Load the player\n",
    "\n",
    "\n",
    "To load into the Database, acrross the API"
   ]
  },
  {
   "cell_type": "code",
   "execution_count": 17,
   "id": "2689d55c",
   "metadata": {},
   "outputs": [],
   "source": [
    "# URLs to connected with the app-service\n",
    "# in this case the port is \n",
    "\n",
    "url = 'http://{}:5000/new_player'.format(ip)"
   ]
  },
  {
   "cell_type": "code",
   "execution_count": 18,
   "id": "3ed287eb",
   "metadata": {},
   "outputs": [
    {
     "data": {
      "text/plain": [
       "'http://192.168.178.36:5000/new_player'"
      ]
     },
     "execution_count": 18,
     "metadata": {},
     "output_type": "execute_result"
    }
   ],
   "source": [
    "url"
   ]
  },
  {
   "cell_type": "code",
   "execution_count": 26,
   "id": "7781e4ec",
   "metadata": {
    "scrolled": false
   },
   "outputs": [],
   "source": [
    "resp = requests.post(url, \n",
    "                     json={'df_json': df_json},\n",
    "                     headers=headers\n",
    "                    )"
   ]
  },
  {
   "cell_type": "code",
   "execution_count": 27,
   "id": "702599ee",
   "metadata": {},
   "outputs": [
    {
     "data": {
      "text/plain": [
       "<Response [200]>"
      ]
     },
     "execution_count": 27,
     "metadata": {},
     "output_type": "execute_result"
    }
   ],
   "source": [
    "resp"
   ]
  },
  {
   "cell_type": "code",
   "execution_count": 28,
   "id": "c8319e10",
   "metadata": {},
   "outputs": [
    {
     "data": {
      "text/plain": [
       "{'label': 'Bronze Layer: OK. Silver Layer: OK. '}"
      ]
     },
     "execution_count": 28,
     "metadata": {},
     "output_type": "execute_result"
    }
   ],
   "source": [
    "resp.json()"
   ]
  },
  {
   "cell_type": "code",
   "execution_count": null,
   "id": "623a33a1",
   "metadata": {},
   "outputs": [],
   "source": []
  }
 ],
 "metadata": {
  "kernelspec": {
   "display_name": "Python 3 (ipykernel)",
   "language": "python",
   "name": "python3"
  },
  "language_info": {
   "codemirror_mode": {
    "name": "ipython",
    "version": 3
   },
   "file_extension": ".py",
   "mimetype": "text/x-python",
   "name": "python",
   "nbconvert_exporter": "python",
   "pygments_lexer": "ipython3",
   "version": "3.9.18"
  }
 },
 "nbformat": 4,
 "nbformat_minor": 5
}
