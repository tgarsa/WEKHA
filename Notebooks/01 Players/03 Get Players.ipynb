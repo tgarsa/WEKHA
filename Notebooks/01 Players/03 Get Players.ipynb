{
 "cells": [
  {
   "cell_type": "markdown",
   "id": "f0dd9623",
   "metadata": {},
   "source": [
    "# Get Player data.\n",
    "\n",
    "In this notebook we will connect to the API to download teh data of the players tio have some condittions."
   ]
  },
  {
   "cell_type": "code",
   "execution_count": 14,
   "id": "45dd6d6d",
   "metadata": {},
   "outputs": [],
   "source": [
    "# The expected imports\n",
    "\n",
    "import pandas as pd\n",
    "import numpy as np\n",
    "\n",
    "# to have access to the web service\n",
    "import requests"
   ]
  },
  {
   "cell_type": "markdown",
   "id": "668bd5f2",
   "metadata": {},
   "source": [
    "# Define the connexion."
   ]
  },
  {
   "cell_type": "code",
   "execution_count": 15,
   "id": "5b86a315",
   "metadata": {},
   "outputs": [],
   "source": [
    "# The IP of the docker server\n",
    "\n",
    "# Mac ip\n",
    "# ip = \"192.168.178.36\"\n",
    "# From external connexions. \n",
    "ip = \"saizvirtual.ddns.net\""
   ]
  },
  {
   "cell_type": "markdown",
   "id": "37ca9e4b",
   "metadata": {},
   "source": [
    "# Get Token"
   ]
  },
  {
   "cell_type": "code",
   "execution_count": 16,
   "id": "504bf752",
   "metadata": {},
   "outputs": [],
   "source": [
    "# URLs to connected with the API-service\n",
    "url = 'http://{}:5000/token'.format(ip)"
   ]
  },
  {
   "cell_type": "code",
   "execution_count": 17,
   "id": "7fab0b10",
   "metadata": {},
   "outputs": [
    {
     "data": {
      "text/plain": [
       "<Response [200]>"
      ]
     },
     "execution_count": 17,
     "metadata": {},
     "output_type": "execute_result"
    }
   ],
   "source": [
    "# Send User and Paswword\n",
    "resp = requests.post(url, \n",
    "                     data={'username': 'tgarsa',\n",
    "                           'password':'secret'}\n",
    "                    )\n",
    "# resp = requests.post(url, data={'username': 'alice', 'password':'secret'})\n",
    "resp"
   ]
  },
  {
   "cell_type": "code",
   "execution_count": 18,
   "id": "e15b2c44",
   "metadata": {},
   "outputs": [],
   "source": [
    "token = resp.json()['access_token']\n",
    "# print('Token: {}'.format(token))\n",
    "\n",
    "token_type = resp.json()['token_type']\n",
    "# print('Token Type: {}'.format(token_type))"
   ]
  },
  {
   "cell_type": "markdown",
   "id": "5ad09d71",
   "metadata": {},
   "source": [
    "## Define the Header"
   ]
  },
  {
   "cell_type": "code",
   "execution_count": 19,
   "id": "d3d9e995",
   "metadata": {},
   "outputs": [],
   "source": [
    "headers = {\"Authorization\": \"{} {}\".format(token_type, token)}"
   ]
  },
  {
   "cell_type": "code",
   "execution_count": 20,
   "id": "ff801292",
   "metadata": {},
   "outputs": [],
   "source": [
    "# headers"
   ]
  },
  {
   "cell_type": "markdown",
   "id": "65035bb6",
   "metadata": {},
   "source": [
    "## Define the search "
   ]
  },
  {
   "cell_type": "code",
   "execution_count": 21,
   "id": "06dc545e",
   "metadata": {},
   "outputs": [],
   "source": [
    "search ={}\n",
    "# search['id'] = 'TGS001'\n",
    "# search['telefono'] = '0614297911'\n",
    "# search['dni'] = '2890337'\n",
    "# search['nick'] = 'smurf'\n",
    "search['nick'] = 'Smurf'\n",
    "# search['email'] = 'tgarsa@me.com'\n",
    "# search['email'] = 'TGARSA@ME.com'\n",
    "# search['pais'] = 'España'\n",
    "\n",
    "\n",
    "dj_search = pd.DataFrame.from_dict(search, orient='index').transpose()\n",
    "json_search = dj_search.to_json()"
   ]
  },
  {
   "cell_type": "markdown",
   "id": "6ee776b6",
   "metadata": {},
   "source": [
    "# Connect to the API"
   ]
  },
  {
   "cell_type": "code",
   "execution_count": 22,
   "id": "83555dd5",
   "metadata": {},
   "outputs": [],
   "source": [
    "# URLs to connected with the app-service\n",
    "# in this case the port is \n",
    "\n",
    "# url = 'http://{}:5000/get_player'.format(ip)\n",
    "url = 'http://{}:5000/get'.format(ip)"
   ]
  },
  {
   "cell_type": "code",
   "execution_count": 23,
   "id": "1ad7538a",
   "metadata": {},
   "outputs": [
    {
     "data": {
      "text/plain": [
       "'http://saizvirtual.ddns.net:5000/get'"
      ]
     },
     "execution_count": 23,
     "metadata": {},
     "output_type": "execute_result"
    }
   ],
   "source": [
    "url"
   ]
  },
  {
   "cell_type": "code",
   "execution_count": 24,
   "id": "d12e8bc9",
   "metadata": {},
   "outputs": [],
   "source": [
    "resp = requests.get(url, \n",
    "                    json={'df_json': json_search, \n",
    "                          'table':'jugadores'},\n",
    "                   headers=headers\n",
    "                   )"
   ]
  },
  {
   "cell_type": "code",
   "execution_count": 25,
   "id": "5365b689",
   "metadata": {},
   "outputs": [
    {
     "data": {
      "text/plain": [
       "<Response [200]>"
      ]
     },
     "execution_count": 25,
     "metadata": {},
     "output_type": "execute_result"
    }
   ],
   "source": [
    "resp"
   ]
  },
  {
   "cell_type": "code",
   "execution_count": 26,
   "id": "aaedbefb",
   "metadata": {},
   "outputs": [
    {
     "data": {
      "text/plain": [
       "[[2,\n",
       "  'TGS002',\n",
       "  '2890337',\n",
       "  'Tomas',\n",
       "  'Garcia Saiz',\n",
       "  'Smurf',\n",
       "  'tgarsa@gamil.com',\n",
       "  '614297912',\n",
       "  'Amsterdam',\n",
       "  'Holanda',\n",
       "  'XXL',\n",
       "  0,\n",
       "  ' 02/04/24:   \\n ',\n",
       "  '2024-04-02T20:41:50.617902',\n",
       "  '2024-04-02T20:41:50.617902'],\n",
       " [1,\n",
       "  'TGS001',\n",
       "  '2890340',\n",
       "  'Tomas',\n",
       "  'Garcia Saiz',\n",
       "  'Smurf',\n",
       "  'tgars2@me.com',\n",
       "  '614297911',\n",
       "  'Amsterdam',\n",
       "  'Paises Bajos',\n",
       "  'XXL',\n",
       "  0,\n",
       "  ' 01/04/24: Tonto el culo \\n 04/04/24: Pero del toooo \\n ',\n",
       "  '2024-04-01T20:38:08.585569',\n",
       "  '2024-04-04T11:07:30.754537']]"
      ]
     },
     "execution_count": 26,
     "metadata": {},
     "output_type": "execute_result"
    }
   ],
   "source": [
    "resp.json()"
   ]
  },
  {
   "cell_type": "markdown",
   "id": "1751b4f9",
   "metadata": {},
   "source": [
    "[[1,\n",
    "  'TGS001',\n",
    "  '2890340',\n",
    "  'Tomas',\n",
    "  'GARICA SAIZ',\n",
    "  'Smurf',\n",
    "  'tgars2@me.com',\n",
    "  '614297914',\n",
    "  'Amsterdam',\n",
    "  'Paises Bajos',\n",
    "  'XXL',\n",
    "  'Multiples',\n",
    "  'Tonto el culo',\n",
    "  '2024-03-27T17:48:11.093450',\n",
    "  '2024-03-27T17:48:11.093450']]\n"
   ]
  }
 ],
 "metadata": {
  "kernelspec": {
   "display_name": "Python 3 (ipykernel)",
   "language": "python",
   "name": "python3"
  },
  "language_info": {
   "codemirror_mode": {
    "name": "ipython",
    "version": 3
   },
   "file_extension": ".py",
   "mimetype": "text/x-python",
   "name": "python",
   "nbconvert_exporter": "python",
   "pygments_lexer": "ipython3",
   "version": "3.9.18"
  }
 },
 "nbformat": 4,
 "nbformat_minor": 5
}
