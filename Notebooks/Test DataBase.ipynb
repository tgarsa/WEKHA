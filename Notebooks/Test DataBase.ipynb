{
 "cells": [
  {
   "cell_type": "markdown",
   "id": "a7b1579d",
   "metadata": {},
   "source": [
    "# Testing Data into the Database \n",
    "\n",
    "This notebook is only to test the database, and evaluate if we were loading the data correctly. "
   ]
  },
  {
   "cell_type": "code",
   "execution_count": null,
   "id": "d0a0ba61",
   "metadata": {},
   "outputs": [],
   "source": [
    "import pandas as pd\n",
    "import numpy as np"
   ]
  },
  {
   "cell_type": "code",
   "execution_count": null,
   "id": "8a93790e",
   "metadata": {},
   "outputs": [],
   "source": [
    "# To have access to the database\n",
    "import psycopg2 "
   ]
  },
  {
   "cell_type": "markdown",
   "id": "23dd11d3",
   "metadata": {},
   "source": [
    "## Conexion\n",
    "\n",
    "Define the conexion to the Postgres container.\n",
    "\n",
    "It is necesari to know the internal IP"
   ]
  },
  {
   "cell_type": "code",
   "execution_count": null,
   "id": "31b7f241",
   "metadata": {},
   "outputs": [],
   "source": [
    "# The IP of the docker server\n",
    "\n",
    "# Mac ip\n",
    "# ip = \"192.168.178.36\"\n",
    "# Raspberry pi 3 IP\n",
    "# ip = \"192.168.178.172\"\n",
    "# From external connexions. \n",
    "ip = \"saizvirtual.ddns.net\"\n",
    "\n",
    "\n",
    "conexion = psycopg2.connect( \n",
    "    host=ip,\n",
    "    port=5432,\n",
    "    database=\"wehka\",\n",
    "    user=\"postgres\",\n",
    "    password=\"lop34sw@D\")"
   ]
  },
  {
   "cell_type": "code",
   "execution_count": null,
   "id": "a04af7f2",
   "metadata": {},
   "outputs": [],
   "source": [
    "# Conected to the server\n",
    "cursor=conexion.cursor()"
   ]
  },
  {
   "cell_type": "markdown",
   "id": "0e5d4f1e",
   "metadata": {},
   "source": [
    "## Download the whole dataset \n",
    "# Bronze"
   ]
  },
  {
   "cell_type": "code",
   "execution_count": null,
   "id": "f72a383b",
   "metadata": {},
   "outputs": [],
   "source": [
    "\n",
    "sql=\"select * from jugadores_bronze\"\n",
    "columns = ['id', 'id_jugador', 'dni', 'nombre', 'apellidos', 'nick', 'email', 'telefono', 'residencia', 'pais','talla', 'discapacidades', 'observaciones', 'created_at']"
   ]
  },
  {
   "cell_type": "code",
   "execution_count": null,
   "id": "e60f1699",
   "metadata": {},
   "outputs": [],
   "source": [
    "cursor.execute(sql)"
   ]
  },
  {
   "cell_type": "code",
   "execution_count": null,
   "id": "a2a0ee07",
   "metadata": {},
   "outputs": [],
   "source": [
    "# How many data?\n",
    "print('Number of rows: {}'.format(cursor.rowcount))"
   ]
  },
  {
   "cell_type": "code",
   "execution_count": null,
   "id": "eac6fb4d",
   "metadata": {},
   "outputs": [],
   "source": [
    "# Recuperamos todos los datos, no es necesario descargar uno a uno. \n",
    "\n",
    "data = cursor.fetchall()"
   ]
  },
  {
   "cell_type": "code",
   "execution_count": null,
   "id": "413a17a8",
   "metadata": {},
   "outputs": [],
   "source": [
    "df = pd.DataFrame(data, columns=columns)"
   ]
  },
  {
   "cell_type": "code",
   "execution_count": null,
   "id": "71a01f95",
   "metadata": {},
   "outputs": [],
   "source": [
    "df"
   ]
  },
  {
   "cell_type": "markdown",
   "id": "7406d73b",
   "metadata": {},
   "source": [
    "## Download the whole dataset \n",
    "\n",
    "# Silver"
   ]
  },
  {
   "cell_type": "code",
   "execution_count": null,
   "id": "d35f6a13",
   "metadata": {},
   "outputs": [],
   "source": [
    "#  Download the players. We connect directly to the database, not accross the API, \n",
    "# this is not the correct option to do, this is only a test.\n",
    "\n",
    "sql=\"select * from jugadores\"\n",
    "columns = ['id', 'id_jugador', 'dni', 'nombre', 'apellidos', 'nick', 'email', 'telefono', 'residencia', 'pais', 'talla', 'discapacidades', 'observaciones', 'created_at', 'updated_at']"
   ]
  },
  {
   "cell_type": "code",
   "execution_count": null,
   "id": "6973aad1",
   "metadata": {},
   "outputs": [],
   "source": [
    "cursor.execute(sql)"
   ]
  },
  {
   "cell_type": "code",
   "execution_count": null,
   "id": "c1471a7c",
   "metadata": {},
   "outputs": [],
   "source": [
    "# How many data?\n",
    "print('Number of rows: {}'.format(cursor.rowcount))"
   ]
  },
  {
   "cell_type": "code",
   "execution_count": null,
   "id": "11a93224",
   "metadata": {},
   "outputs": [],
   "source": [
    "# Recuperamos todos los datos, no es necesario descargar uno a uno. \n",
    "\n",
    "data = cursor.fetchall()"
   ]
  },
  {
   "cell_type": "code",
   "execution_count": null,
   "id": "6baefd38",
   "metadata": {},
   "outputs": [],
   "source": [
    "df = pd.DataFrame(data, columns=columns)"
   ]
  },
  {
   "cell_type": "code",
   "execution_count": null,
   "id": "2333037b",
   "metadata": {},
   "outputs": [],
   "source": [
    "df"
   ]
  }
 ],
 "metadata": {
  "kernelspec": {
   "display_name": "Python 3 (ipykernel)",
   "language": "python",
   "name": "python3"
  },
  "language_info": {
   "codemirror_mode": {
    "name": "ipython",
    "version": 3
   },
   "file_extension": ".py",
   "mimetype": "text/x-python",
   "name": "python",
   "nbconvert_exporter": "python",
   "pygments_lexer": "ipython3",
   "version": "3.9.18"
  }
 },
 "nbformat": 4,
 "nbformat_minor": 5
}
