{
 "cells": [
  {
   "cell_type": "markdown",
   "id": "a7b1579d",
   "metadata": {},
   "source": [
    "# Testing Data into the Database \n",
    "\n",
    "This notebook is only to test the database, and evaluate if we were loading the data correctly. "
   ]
  },
  {
   "cell_type": "code",
   "execution_count": 48,
   "id": "d0a0ba61",
   "metadata": {},
   "outputs": [],
   "source": [
    "import pandas as pd\n",
    "import numpy as np"
   ]
  },
  {
   "cell_type": "code",
   "execution_count": 49,
   "id": "8a93790e",
   "metadata": {},
   "outputs": [],
   "source": [
    "# To have access to the database\n",
    "import psycopg2 "
   ]
  },
  {
   "cell_type": "markdown",
   "id": "23dd11d3",
   "metadata": {},
   "source": [
    "## Conexion\n",
    "\n",
    "Define the conexion to the Postgres container.\n",
    "\n",
    "It is necesari to know the internal IP"
   ]
  },
  {
   "cell_type": "code",
   "execution_count": 50,
   "id": "31b7f241",
   "metadata": {},
   "outputs": [],
   "source": [
    "# The IP of the docker server\n",
    "\n",
    "# Mac ip\n",
    "ip = \"192.168.178.36\"\n",
    "# Raspberry pi 3 IP\n",
    "# ip = \"192.168.178.172\"\n",
    "# From external connexions. \n",
    "# ip = \"saizvirtual.ddns.net\"\n",
    "\n",
    "\n",
    "conexion = psycopg2.connect( \n",
    "    host=ip,\n",
    "    port=5432,\n",
    "    database=\"wehka\",\n",
    "    user=\"postgres\",\n",
    "    password=\"lop34sw@D\")"
   ]
  },
  {
   "cell_type": "code",
   "execution_count": 51,
   "id": "a04af7f2",
   "metadata": {},
   "outputs": [],
   "source": [
    "# Conected to the server\n",
    "cursor=conexion.cursor()"
   ]
  },
  {
   "cell_type": "markdown",
   "id": "0e5d4f1e",
   "metadata": {},
   "source": [
    "## Download the whole dataset \n",
    "# Bronze"
   ]
  },
  {
   "cell_type": "code",
   "execution_count": 52,
   "id": "f72a383b",
   "metadata": {},
   "outputs": [],
   "source": [
    "sql =  \"select * from sedes where id_sede LIKE 'Malaga%'\"\n",
    "# sql=\"select * from jugadores_bronze\"\n",
    "columns = ['id', 'id_jugador', 'dni', 'nombre', 'apellidos', 'nick', 'email', 'telefono', 'residencia', 'pais','talla', 'discapacidades', 'observaciones', 'created_at']"
   ]
  },
  {
   "cell_type": "code",
   "execution_count": 53,
   "id": "e60f1699",
   "metadata": {},
   "outputs": [],
   "source": [
    "cursor.execute(sql)"
   ]
  },
  {
   "cell_type": "code",
   "execution_count": 54,
   "id": "a2a0ee07",
   "metadata": {},
   "outputs": [
    {
     "name": "stdout",
     "output_type": "stream",
     "text": [
      "Number of rows: 1\n"
     ]
    }
   ],
   "source": [
    "# How many data?\n",
    "print('Number of rows: {}'.format(cursor.rowcount))"
   ]
  },
  {
   "cell_type": "code",
   "execution_count": 55,
   "id": "eac6fb4d",
   "metadata": {},
   "outputs": [],
   "source": [
    "# Recuperamos todos los datos, no es necesario descargar uno a uno. \n",
    "\n",
    "data = cursor.fetchall()"
   ]
  },
  {
   "cell_type": "code",
   "execution_count": 56,
   "id": "ef84f297",
   "metadata": {},
   "outputs": [
    {
     "data": {
      "text/plain": [
       "[(2,\n",
       "  'Malaga001',\n",
       "  None,\n",
       "  'Malaga',\n",
       "  'Estepona',\n",
       "  29680,\n",
       "  'Av. Juan Carlos I',\n",
       "  40,\n",
       "  'Sala Expopsiciones Rafael Mariscal',\n",
       "  True,\n",
       "  150,\n",
       "  None,\n",
       "  datetime.datetime(2024, 3, 26, 18, 41, 55, 497753),\n",
       "  datetime.datetime(2024, 3, 26, 18, 41, 55, 497753))]"
      ]
     },
     "execution_count": 56,
     "metadata": {},
     "output_type": "execute_result"
    }
   ],
   "source": [
    "data"
   ]
  },
  {
   "cell_type": "code",
   "execution_count": 57,
   "id": "413a17a8",
   "metadata": {},
   "outputs": [],
   "source": [
    "df = pd.DataFrame(data)#, columns=columns)"
   ]
  },
  {
   "cell_type": "code",
   "execution_count": 58,
   "id": "71a01f95",
   "metadata": {},
   "outputs": [
    {
     "data": {
      "text/html": [
       "<div>\n",
       "<style scoped>\n",
       "    .dataframe tbody tr th:only-of-type {\n",
       "        vertical-align: middle;\n",
       "    }\n",
       "\n",
       "    .dataframe tbody tr th {\n",
       "        vertical-align: top;\n",
       "    }\n",
       "\n",
       "    .dataframe thead th {\n",
       "        text-align: right;\n",
       "    }\n",
       "</style>\n",
       "<table border=\"1\" class=\"dataframe\">\n",
       "  <thead>\n",
       "    <tr style=\"text-align: right;\">\n",
       "      <th></th>\n",
       "      <th>0</th>\n",
       "      <th>1</th>\n",
       "      <th>2</th>\n",
       "      <th>3</th>\n",
       "      <th>4</th>\n",
       "      <th>5</th>\n",
       "      <th>6</th>\n",
       "      <th>7</th>\n",
       "      <th>8</th>\n",
       "      <th>9</th>\n",
       "      <th>10</th>\n",
       "      <th>11</th>\n",
       "      <th>12</th>\n",
       "      <th>13</th>\n",
       "    </tr>\n",
       "  </thead>\n",
       "  <tbody>\n",
       "    <tr>\n",
       "      <th>0</th>\n",
       "      <td>2</td>\n",
       "      <td>Malaga001</td>\n",
       "      <td>None</td>\n",
       "      <td>Malaga</td>\n",
       "      <td>Estepona</td>\n",
       "      <td>29680</td>\n",
       "      <td>Av. Juan Carlos I</td>\n",
       "      <td>40</td>\n",
       "      <td>Sala Expopsiciones Rafael Mariscal</td>\n",
       "      <td>True</td>\n",
       "      <td>150</td>\n",
       "      <td>None</td>\n",
       "      <td>2024-03-26 18:41:55.497753</td>\n",
       "      <td>2024-03-26 18:41:55.497753</td>\n",
       "    </tr>\n",
       "  </tbody>\n",
       "</table>\n",
       "</div>"
      ],
      "text/plain": [
       "   0          1     2       3         4      5                  6   7   \\\n",
       "0   2  Malaga001  None  Malaga  Estepona  29680  Av. Juan Carlos I  40   \n",
       "\n",
       "                                   8     9    10    11  \\\n",
       "0  Sala Expopsiciones Rafael Mariscal  True  150  None   \n",
       "\n",
       "                          12                         13  \n",
       "0 2024-03-26 18:41:55.497753 2024-03-26 18:41:55.497753  "
      ]
     },
     "execution_count": 58,
     "metadata": {},
     "output_type": "execute_result"
    }
   ],
   "source": [
    "df"
   ]
  },
  {
   "cell_type": "markdown",
   "id": "7406d73b",
   "metadata": {},
   "source": [
    "## Download the whole dataset \n",
    "\n",
    "# Silver"
   ]
  },
  {
   "cell_type": "code",
   "execution_count": 59,
   "id": "d35f6a13",
   "metadata": {},
   "outputs": [],
   "source": [
    "#  Download the players. We connect directly to the database, not accross the API, \n",
    "# this is not the correct option to do, this is only a test.\n",
    "\n",
    "sql=\"select * from jugadores\"\n",
    "columns = ['id', 'id_jugador', 'dni', 'nombre', 'apellidos', 'nick', 'email', 'telefono', 'residencia', 'pais', 'talla', 'discapacidades', 'observaciones', 'created_at', 'updated_at']"
   ]
  },
  {
   "cell_type": "code",
   "execution_count": 60,
   "id": "6973aad1",
   "metadata": {},
   "outputs": [],
   "source": [
    "cursor.execute(sql)"
   ]
  },
  {
   "cell_type": "code",
   "execution_count": 61,
   "id": "c1471a7c",
   "metadata": {},
   "outputs": [
    {
     "name": "stdout",
     "output_type": "stream",
     "text": [
      "Number of rows: 0\n"
     ]
    }
   ],
   "source": [
    "# How many data?\n",
    "print('Number of rows: {}'.format(cursor.rowcount))"
   ]
  },
  {
   "cell_type": "code",
   "execution_count": 62,
   "id": "11a93224",
   "metadata": {},
   "outputs": [],
   "source": [
    "# Recuperamos todos los datos, no es necesario descargar uno a uno. \n",
    "\n",
    "data = cursor.fetchall()"
   ]
  },
  {
   "cell_type": "code",
   "execution_count": 63,
   "id": "6baefd38",
   "metadata": {},
   "outputs": [],
   "source": [
    "df = pd.DataFrame(data, columns=columns)"
   ]
  },
  {
   "cell_type": "code",
   "execution_count": 64,
   "id": "2333037b",
   "metadata": {},
   "outputs": [
    {
     "data": {
      "text/html": [
       "<div>\n",
       "<style scoped>\n",
       "    .dataframe tbody tr th:only-of-type {\n",
       "        vertical-align: middle;\n",
       "    }\n",
       "\n",
       "    .dataframe tbody tr th {\n",
       "        vertical-align: top;\n",
       "    }\n",
       "\n",
       "    .dataframe thead th {\n",
       "        text-align: right;\n",
       "    }\n",
       "</style>\n",
       "<table border=\"1\" class=\"dataframe\">\n",
       "  <thead>\n",
       "    <tr style=\"text-align: right;\">\n",
       "      <th></th>\n",
       "      <th>id</th>\n",
       "      <th>id_jugador</th>\n",
       "      <th>dni</th>\n",
       "      <th>nombre</th>\n",
       "      <th>apellidos</th>\n",
       "      <th>nick</th>\n",
       "      <th>email</th>\n",
       "      <th>telefono</th>\n",
       "      <th>residencia</th>\n",
       "      <th>pais</th>\n",
       "      <th>talla</th>\n",
       "      <th>discapacidades</th>\n",
       "      <th>observaciones</th>\n",
       "      <th>created_at</th>\n",
       "      <th>updated_at</th>\n",
       "    </tr>\n",
       "  </thead>\n",
       "  <tbody>\n",
       "  </tbody>\n",
       "</table>\n",
       "</div>"
      ],
      "text/plain": [
       "Empty DataFrame\n",
       "Columns: [id, id_jugador, dni, nombre, apellidos, nick, email, telefono, residencia, pais, talla, discapacidades, observaciones, created_at, updated_at]\n",
       "Index: []"
      ]
     },
     "execution_count": 64,
     "metadata": {},
     "output_type": "execute_result"
    }
   ],
   "source": [
    "df"
   ]
  },
  {
   "cell_type": "code",
   "execution_count": null,
   "id": "0706c7f7",
   "metadata": {},
   "outputs": [],
   "source": []
  },
  {
   "cell_type": "code",
   "execution_count": null,
   "id": "6d0d1b69",
   "metadata": {},
   "outputs": [],
   "source": []
  }
 ],
 "metadata": {
  "kernelspec": {
   "display_name": "Python 3 (ipykernel)",
   "language": "python",
   "name": "python3"
  },
  "language_info": {
   "codemirror_mode": {
    "name": "ipython",
    "version": 3
   },
   "file_extension": ".py",
   "mimetype": "text/x-python",
   "name": "python",
   "nbconvert_exporter": "python",
   "pygments_lexer": "ipython3",
   "version": "3.9.18"
  }
 },
 "nbformat": 4,
 "nbformat_minor": 5
}
