{
 "cells": [
  {
   "cell_type": "markdown",
   "id": "a7b1579d",
   "metadata": {},
   "source": [
    "# Testing Data into the Database \n",
    "\n",
    "This notebook is only to test the database, and evaluate if we were loading the data correctly. "
   ]
  },
  {
   "cell_type": "code",
   "execution_count": 54,
   "id": "d0a0ba61",
   "metadata": {},
   "outputs": [],
   "source": [
    "import pandas as pd\n",
    "import numpy as np"
   ]
  },
  {
   "cell_type": "code",
   "execution_count": 55,
   "id": "8a93790e",
   "metadata": {},
   "outputs": [],
   "source": [
    "# To have access to the database\n",
    "import psycopg2 "
   ]
  },
  {
   "cell_type": "markdown",
   "id": "23dd11d3",
   "metadata": {},
   "source": [
    "## Conexion\n",
    "\n",
    "Define the conexion to the Postgres container.\n",
    "\n",
    "It is necesari to know the internal IP"
   ]
  },
  {
   "cell_type": "code",
   "execution_count": 56,
   "id": "31b7f241",
   "metadata": {},
   "outputs": [],
   "source": [
    "# The IP of the docker server\n",
    "\n",
    "# Mac ip\n",
    "ip = \"192.168.178.36\"\n",
    "# Raspberry pi 3 IP\n",
    "# ip = \"192.168.178.172\"\n",
    "# From external connexions. \n",
    "# ip = \"saizvirtual.ddns.net\"\n",
    "\n",
    "\n",
    "conexion = psycopg2.connect( \n",
    "    host=ip,\n",
    "    port=5432,\n",
    "    database=\"wehka\",\n",
    "    user=\"postgres\",\n",
    "    password=\"lop34sw@D\")"
   ]
  },
  {
   "cell_type": "code",
   "execution_count": 57,
   "id": "a04af7f2",
   "metadata": {},
   "outputs": [],
   "source": [
    "# Conected to the server\n",
    "cursor=conexion.cursor()"
   ]
  },
  {
   "cell_type": "markdown",
   "id": "7406d73b",
   "metadata": {},
   "source": [
    "## Download the whole dataset \n",
    "\n"
   ]
  },
  {
   "cell_type": "code",
   "execution_count": 58,
   "id": "d35f6a13",
   "metadata": {},
   "outputs": [],
   "source": [
    "#  Download the players. We connect directly to the database, not accross the API, \n",
    "# this is not the correct option to do, this is only a test.\n",
    "\n",
    "sql=\"select * from jugadores\"\n",
    "columns = ['id', 'id_jugador', 'dni', 'nombre', 'apellidos', 'nick', 'email', 'telefono', 'residencia', 'talla', 'discapacidades', 'observaciones']"
   ]
  },
  {
   "cell_type": "code",
   "execution_count": 59,
   "id": "6973aad1",
   "metadata": {},
   "outputs": [],
   "source": [
    "cursor.execute(sql)"
   ]
  },
  {
   "cell_type": "code",
   "execution_count": 60,
   "id": "c1471a7c",
   "metadata": {},
   "outputs": [
    {
     "name": "stdout",
     "output_type": "stream",
     "text": [
      "Number of rows: 12\n"
     ]
    }
   ],
   "source": [
    "# How many data?\n",
    "print('Number of rows: {}'.format(cursor.rowcount))"
   ]
  },
  {
   "cell_type": "code",
   "execution_count": 61,
   "id": "11a93224",
   "metadata": {},
   "outputs": [],
   "source": [
    "# Recuperamos todos los datos, no es necesario descargar uno a uno. \n",
    "\n",
    "data = cursor.fetchall()"
   ]
  },
  {
   "cell_type": "code",
   "execution_count": 62,
   "id": "6baefd38",
   "metadata": {},
   "outputs": [],
   "source": [
    "df = pd.DataFrame(data, columns=columns)"
   ]
  },
  {
   "cell_type": "code",
   "execution_count": 63,
   "id": "2333037b",
   "metadata": {},
   "outputs": [
    {
     "data": {
      "text/html": [
       "<div>\n",
       "<style scoped>\n",
       "    .dataframe tbody tr th:only-of-type {\n",
       "        vertical-align: middle;\n",
       "    }\n",
       "\n",
       "    .dataframe tbody tr th {\n",
       "        vertical-align: top;\n",
       "    }\n",
       "\n",
       "    .dataframe thead th {\n",
       "        text-align: right;\n",
       "    }\n",
       "</style>\n",
       "<table border=\"1\" class=\"dataframe\">\n",
       "  <thead>\n",
       "    <tr style=\"text-align: right;\">\n",
       "      <th></th>\n",
       "      <th>id</th>\n",
       "      <th>id_jugador</th>\n",
       "      <th>dni</th>\n",
       "      <th>nombre</th>\n",
       "      <th>apellidos</th>\n",
       "      <th>nick</th>\n",
       "      <th>email</th>\n",
       "      <th>telefono</th>\n",
       "      <th>residencia</th>\n",
       "      <th>talla</th>\n",
       "      <th>discapacidades</th>\n",
       "      <th>observaciones</th>\n",
       "    </tr>\n",
       "  </thead>\n",
       "  <tbody>\n",
       "    <tr>\n",
       "      <th>0</th>\n",
       "      <td>2</td>\n",
       "      <td>TGS001</td>\n",
       "      <td>2890337</td>\n",
       "      <td>Tomas</td>\n",
       "      <td>Garcia Saiz</td>\n",
       "      <td>smurf</td>\n",
       "      <td>tgarsa@gmail.com</td>\n",
       "      <td>916290532</td>\n",
       "      <td>Madrid</td>\n",
       "      <td>XXL</td>\n",
       "      <td>Multiples</td>\n",
       "      <td>Tonto el culo</td>\n",
       "    </tr>\n",
       "    <tr>\n",
       "      <th>1</th>\n",
       "      <td>3</td>\n",
       "      <td>TGS002</td>\n",
       "      <td>2890336</td>\n",
       "      <td>Tomas</td>\n",
       "      <td>Garcia Saiz</td>\n",
       "      <td>smurf</td>\n",
       "      <td>tgarsa@gmail.com</td>\n",
       "      <td>916290532</td>\n",
       "      <td>Madrid</td>\n",
       "      <td>XXL</td>\n",
       "      <td>Multiples</td>\n",
       "      <td>Tonto el culo</td>\n",
       "    </tr>\n",
       "    <tr>\n",
       "      <th>2</th>\n",
       "      <td>4</td>\n",
       "      <td>TGS003</td>\n",
       "      <td>2890336</td>\n",
       "      <td>Tomas</td>\n",
       "      <td>Garcia Saiz</td>\n",
       "      <td>smurf</td>\n",
       "      <td>tgarsa@gmail.com</td>\n",
       "      <td>91614297911</td>\n",
       "      <td>Madrid</td>\n",
       "      <td>XXL</td>\n",
       "      <td>Multiples</td>\n",
       "      <td>Tonto el culo</td>\n",
       "    </tr>\n",
       "    <tr>\n",
       "      <th>3</th>\n",
       "      <td>5</td>\n",
       "      <td>TGS004</td>\n",
       "      <td>2890337</td>\n",
       "      <td>Tomas</td>\n",
       "      <td>Garcia Saiz</td>\n",
       "      <td>smurf</td>\n",
       "      <td>tgarsa@me.com</td>\n",
       "      <td>916290532</td>\n",
       "      <td>Madrid</td>\n",
       "      <td>XXL</td>\n",
       "      <td>Multiples</td>\n",
       "      <td>Tonto el culo</td>\n",
       "    </tr>\n",
       "    <tr>\n",
       "      <th>4</th>\n",
       "      <td>6</td>\n",
       "      <td>TGS005</td>\n",
       "      <td>2890337</td>\n",
       "      <td>Tomas</td>\n",
       "      <td>Garcia Saiz</td>\n",
       "      <td>smurf</td>\n",
       "      <td>tgarsa@me.com</td>\n",
       "      <td>916290532</td>\n",
       "      <td>Madrid</td>\n",
       "      <td>XXL</td>\n",
       "      <td>Multiples</td>\n",
       "      <td>Tonto el culo</td>\n",
       "    </tr>\n",
       "    <tr>\n",
       "      <th>5</th>\n",
       "      <td>7</td>\n",
       "      <td>TGS006</td>\n",
       "      <td>2890331</td>\n",
       "      <td>Tomas</td>\n",
       "      <td>Garcia Saiz</td>\n",
       "      <td>smurf</td>\n",
       "      <td>tgarsa@me.com</td>\n",
       "      <td>916290532</td>\n",
       "      <td>Madrid</td>\n",
       "      <td>XXL</td>\n",
       "      <td>Multiples</td>\n",
       "      <td>Tonto el culo</td>\n",
       "    </tr>\n",
       "    <tr>\n",
       "      <th>6</th>\n",
       "      <td>8</td>\n",
       "      <td>IAGS001</td>\n",
       "      <td>2890331</td>\n",
       "      <td>Ignacio Antonio</td>\n",
       "      <td>Garcia Saiz</td>\n",
       "      <td>smurf</td>\n",
       "      <td>tgarsa@me.com</td>\n",
       "      <td>916290532</td>\n",
       "      <td>Madrid</td>\n",
       "      <td>XXL</td>\n",
       "      <td>Multiples</td>\n",
       "      <td>Tonto el culo</td>\n",
       "    </tr>\n",
       "    <tr>\n",
       "      <th>7</th>\n",
       "      <td>9</td>\n",
       "      <td>IAGS002</td>\n",
       "      <td>2890331</td>\n",
       "      <td>Ignacio Antonio</td>\n",
       "      <td>Garcia Saiz</td>\n",
       "      <td>smurf</td>\n",
       "      <td>tgarsa@me.com</td>\n",
       "      <td>916290532</td>\n",
       "      <td>Madrid</td>\n",
       "      <td>XXL</td>\n",
       "      <td>Multiples</td>\n",
       "      <td>Tonto el culo</td>\n",
       "    </tr>\n",
       "    <tr>\n",
       "      <th>8</th>\n",
       "      <td>11</td>\n",
       "      <td>IAGS004</td>\n",
       "      <td>2890339</td>\n",
       "      <td>Ignacio Antonio</td>\n",
       "      <td>Garcia Saiz</td>\n",
       "      <td>smurf</td>\n",
       "      <td>tgarsa@me.com</td>\n",
       "      <td>916290533</td>\n",
       "      <td>Madrid</td>\n",
       "      <td>XXL</td>\n",
       "      <td>Multiples</td>\n",
       "      <td>Tonto el culo</td>\n",
       "    </tr>\n",
       "    <tr>\n",
       "      <th>9</th>\n",
       "      <td>12</td>\n",
       "      <td>IAGS005</td>\n",
       "      <td>2890339</td>\n",
       "      <td>Ignacio Antonio</td>\n",
       "      <td>Garcia Saiz</td>\n",
       "      <td>smurf</td>\n",
       "      <td>tgarsa@me.com</td>\n",
       "      <td>916290533</td>\n",
       "      <td>Madrid</td>\n",
       "      <td>XXL</td>\n",
       "      <td>Multiples</td>\n",
       "      <td>Tonto el culo</td>\n",
       "    </tr>\n",
       "    <tr>\n",
       "      <th>10</th>\n",
       "      <td>13</td>\n",
       "      <td>IAGS006</td>\n",
       "      <td>2890342</td>\n",
       "      <td>Ignacio Antonio</td>\n",
       "      <td>Garcia Saiz</td>\n",
       "      <td>smurf</td>\n",
       "      <td>tgarsa2@me.com</td>\n",
       "      <td>916290534</td>\n",
       "      <td>Madrid</td>\n",
       "      <td>XXL</td>\n",
       "      <td>Multiples</td>\n",
       "      <td>Tonto el culo</td>\n",
       "    </tr>\n",
       "    <tr>\n",
       "      <th>11</th>\n",
       "      <td>10</td>\n",
       "      <td>IAGS003</td>\n",
       "      <td>2890339</td>\n",
       "      <td>Ignacio Antonio</td>\n",
       "      <td>Garcia Saiz</td>\n",
       "      <td>smurf</td>\n",
       "      <td>tgarsa@gmail.com</td>\n",
       "      <td>916290533</td>\n",
       "      <td>Verona</td>\n",
       "      <td>XXL</td>\n",
       "      <td>Multiples</td>\n",
       "      <td>Tonto el culo</td>\n",
       "    </tr>\n",
       "  </tbody>\n",
       "</table>\n",
       "</div>"
      ],
      "text/plain": [
       "    id id_jugador      dni           nombre    apellidos   nick  \\\n",
       "0    2     TGS001  2890337            Tomas  Garcia Saiz  smurf   \n",
       "1    3     TGS002  2890336            Tomas  Garcia Saiz  smurf   \n",
       "2    4     TGS003  2890336            Tomas  Garcia Saiz  smurf   \n",
       "3    5     TGS004  2890337            Tomas  Garcia Saiz  smurf   \n",
       "4    6     TGS005  2890337            Tomas  Garcia Saiz  smurf   \n",
       "5    7     TGS006  2890331            Tomas  Garcia Saiz  smurf   \n",
       "6    8    IAGS001  2890331  Ignacio Antonio  Garcia Saiz  smurf   \n",
       "7    9    IAGS002  2890331  Ignacio Antonio  Garcia Saiz  smurf   \n",
       "8   11    IAGS004  2890339  Ignacio Antonio  Garcia Saiz  smurf   \n",
       "9   12    IAGS005  2890339  Ignacio Antonio  Garcia Saiz  smurf   \n",
       "10  13    IAGS006  2890342  Ignacio Antonio  Garcia Saiz  smurf   \n",
       "11  10    IAGS003  2890339  Ignacio Antonio  Garcia Saiz  smurf   \n",
       "\n",
       "               email     telefono residencia talla discapacidades  \\\n",
       "0   tgarsa@gmail.com    916290532     Madrid   XXL      Multiples   \n",
       "1   tgarsa@gmail.com    916290532     Madrid   XXL      Multiples   \n",
       "2   tgarsa@gmail.com  91614297911     Madrid   XXL      Multiples   \n",
       "3      tgarsa@me.com    916290532     Madrid   XXL      Multiples   \n",
       "4      tgarsa@me.com    916290532     Madrid   XXL      Multiples   \n",
       "5      tgarsa@me.com    916290532     Madrid   XXL      Multiples   \n",
       "6      tgarsa@me.com    916290532     Madrid   XXL      Multiples   \n",
       "7      tgarsa@me.com    916290532     Madrid   XXL      Multiples   \n",
       "8      tgarsa@me.com    916290533     Madrid   XXL      Multiples   \n",
       "9      tgarsa@me.com    916290533     Madrid   XXL      Multiples   \n",
       "10    tgarsa2@me.com    916290534     Madrid   XXL      Multiples   \n",
       "11  tgarsa@gmail.com    916290533     Verona   XXL      Multiples   \n",
       "\n",
       "    observaciones  \n",
       "0   Tonto el culo  \n",
       "1   Tonto el culo  \n",
       "2   Tonto el culo  \n",
       "3   Tonto el culo  \n",
       "4   Tonto el culo  \n",
       "5   Tonto el culo  \n",
       "6   Tonto el culo  \n",
       "7   Tonto el culo  \n",
       "8   Tonto el culo  \n",
       "9   Tonto el culo  \n",
       "10  Tonto el culo  \n",
       "11  Tonto el culo  "
      ]
     },
     "execution_count": 63,
     "metadata": {},
     "output_type": "execute_result"
    }
   ],
   "source": [
    "df"
   ]
  },
  {
   "cell_type": "code",
   "execution_count": 64,
   "id": "1d6ead3a",
   "metadata": {},
   "outputs": [],
   "source": [
    "columns = list(df)"
   ]
  },
  {
   "cell_type": "code",
   "execution_count": null,
   "id": "32676d64",
   "metadata": {},
   "outputs": [],
   "source": []
  },
  {
   "cell_type": "code",
   "execution_count": 65,
   "id": "9380c199",
   "metadata": {},
   "outputs": [],
   "source": [
    "columns = list(df.columns)"
   ]
  },
  {
   "cell_type": "code",
   "execution_count": 66,
   "id": "35dba980",
   "metadata": {},
   "outputs": [],
   "source": [
    "columns.remove('id_jugador')"
   ]
  },
  {
   "cell_type": "code",
   "execution_count": 67,
   "id": "5b8bca65",
   "metadata": {},
   "outputs": [
    {
     "data": {
      "text/plain": [
       "['id',\n",
       " 'dni',\n",
       " 'nombre',\n",
       " 'apellidos',\n",
       " 'nick',\n",
       " 'email',\n",
       " 'telefono',\n",
       " 'residencia',\n",
       " 'talla',\n",
       " 'discapacidades',\n",
       " 'observaciones']"
      ]
     },
     "execution_count": 67,
     "metadata": {},
     "output_type": "execute_result"
    }
   ],
   "source": [
    "columns"
   ]
  },
  {
   "cell_type": "code",
   "execution_count": null,
   "id": "66a91b73",
   "metadata": {},
   "outputs": [],
   "source": []
  },
  {
   "cell_type": "code",
   "execution_count": 68,
   "id": "ebc7f90a",
   "metadata": {},
   "outputs": [],
   "source": [
    "sql =  \"select * from jugadores where nick = 'smurf' and dni = '2890337'\""
   ]
  },
  {
   "cell_type": "code",
   "execution_count": 69,
   "id": "a24760ea",
   "metadata": {},
   "outputs": [
    {
     "name": "stdout",
     "output_type": "stream",
     "text": [
      "Number of rows: 3\n"
     ]
    },
    {
     "ename": "ValueError",
     "evalue": "11 columns passed, passed data had 12 columns",
     "output_type": "error",
     "traceback": [
      "\u001b[0;31m---------------------------------------------------------------------------\u001b[0m",
      "\u001b[0;31mAssertionError\u001b[0m                            Traceback (most recent call last)",
      "File \u001b[0;32m~/opt/anaconda3/lib/python3.9/site-packages/pandas/core/internals/construction.py:969\u001b[0m, in \u001b[0;36m_finalize_columns_and_data\u001b[0;34m(content, columns, dtype)\u001b[0m\n\u001b[1;32m    968\u001b[0m \u001b[38;5;28;01mtry\u001b[39;00m:\n\u001b[0;32m--> 969\u001b[0m     columns \u001b[38;5;241m=\u001b[39m \u001b[43m_validate_or_indexify_columns\u001b[49m\u001b[43m(\u001b[49m\u001b[43mcontents\u001b[49m\u001b[43m,\u001b[49m\u001b[43m \u001b[49m\u001b[43mcolumns\u001b[49m\u001b[43m)\u001b[49m\n\u001b[1;32m    970\u001b[0m \u001b[38;5;28;01mexcept\u001b[39;00m \u001b[38;5;167;01mAssertionError\u001b[39;00m \u001b[38;5;28;01mas\u001b[39;00m err:\n\u001b[1;32m    971\u001b[0m     \u001b[38;5;66;03m# GH#26429 do not raise user-facing AssertionError\u001b[39;00m\n",
      "File \u001b[0;32m~/opt/anaconda3/lib/python3.9/site-packages/pandas/core/internals/construction.py:1017\u001b[0m, in \u001b[0;36m_validate_or_indexify_columns\u001b[0;34m(content, columns)\u001b[0m\n\u001b[1;32m   1015\u001b[0m \u001b[38;5;28;01mif\u001b[39;00m \u001b[38;5;129;01mnot\u001b[39;00m is_mi_list \u001b[38;5;129;01mand\u001b[39;00m \u001b[38;5;28mlen\u001b[39m(columns) \u001b[38;5;241m!=\u001b[39m \u001b[38;5;28mlen\u001b[39m(content):  \u001b[38;5;66;03m# pragma: no cover\u001b[39;00m\n\u001b[1;32m   1016\u001b[0m     \u001b[38;5;66;03m# caller's responsibility to check for this...\u001b[39;00m\n\u001b[0;32m-> 1017\u001b[0m     \u001b[38;5;28;01mraise\u001b[39;00m \u001b[38;5;167;01mAssertionError\u001b[39;00m(\n\u001b[1;32m   1018\u001b[0m         \u001b[38;5;124mf\u001b[39m\u001b[38;5;124m\"\u001b[39m\u001b[38;5;132;01m{\u001b[39;00m\u001b[38;5;28mlen\u001b[39m(columns)\u001b[38;5;132;01m}\u001b[39;00m\u001b[38;5;124m columns passed, passed data had \u001b[39m\u001b[38;5;124m\"\u001b[39m\n\u001b[1;32m   1019\u001b[0m         \u001b[38;5;124mf\u001b[39m\u001b[38;5;124m\"\u001b[39m\u001b[38;5;132;01m{\u001b[39;00m\u001b[38;5;28mlen\u001b[39m(content)\u001b[38;5;132;01m}\u001b[39;00m\u001b[38;5;124m columns\u001b[39m\u001b[38;5;124m\"\u001b[39m\n\u001b[1;32m   1020\u001b[0m     )\n\u001b[1;32m   1021\u001b[0m \u001b[38;5;28;01melif\u001b[39;00m is_mi_list:\n\u001b[1;32m   1022\u001b[0m \n\u001b[1;32m   1023\u001b[0m     \u001b[38;5;66;03m# check if nested list column, length of each sub-list should be equal\u001b[39;00m\n",
      "\u001b[0;31mAssertionError\u001b[0m: 11 columns passed, passed data had 12 columns",
      "\nThe above exception was the direct cause of the following exception:\n",
      "\u001b[0;31mValueError\u001b[0m                                Traceback (most recent call last)",
      "Cell \u001b[0;32mIn[69], line 4\u001b[0m\n\u001b[1;32m      2\u001b[0m \u001b[38;5;28mprint\u001b[39m(\u001b[38;5;124m'\u001b[39m\u001b[38;5;124mNumber of rows: \u001b[39m\u001b[38;5;132;01m{}\u001b[39;00m\u001b[38;5;124m'\u001b[39m\u001b[38;5;241m.\u001b[39mformat(cursor\u001b[38;5;241m.\u001b[39mrowcount))\n\u001b[1;32m      3\u001b[0m data \u001b[38;5;241m=\u001b[39m cursor\u001b[38;5;241m.\u001b[39mfetchall()\n\u001b[0;32m----> 4\u001b[0m df \u001b[38;5;241m=\u001b[39m \u001b[43mpd\u001b[49m\u001b[38;5;241;43m.\u001b[39;49m\u001b[43mDataFrame\u001b[49m\u001b[43m(\u001b[49m\u001b[43mdata\u001b[49m\u001b[43m,\u001b[49m\u001b[43m \u001b[49m\u001b[43mcolumns\u001b[49m\u001b[38;5;241;43m=\u001b[39;49m\u001b[43mcolumns\u001b[49m\u001b[43m)\u001b[49m\n",
      "File \u001b[0;32m~/opt/anaconda3/lib/python3.9/site-packages/pandas/core/frame.py:746\u001b[0m, in \u001b[0;36mDataFrame.__init__\u001b[0;34m(self, data, index, columns, dtype, copy)\u001b[0m\n\u001b[1;32m    744\u001b[0m     \u001b[38;5;28;01mif\u001b[39;00m columns \u001b[38;5;129;01mis\u001b[39;00m \u001b[38;5;129;01mnot\u001b[39;00m \u001b[38;5;28;01mNone\u001b[39;00m:\n\u001b[1;32m    745\u001b[0m         columns \u001b[38;5;241m=\u001b[39m ensure_index(columns)\n\u001b[0;32m--> 746\u001b[0m     arrays, columns, index \u001b[38;5;241m=\u001b[39m \u001b[43mnested_data_to_arrays\u001b[49m\u001b[43m(\u001b[49m\n\u001b[1;32m    747\u001b[0m \u001b[43m        \u001b[49m\u001b[38;5;66;43;03m# error: Argument 3 to \"nested_data_to_arrays\" has incompatible\u001b[39;49;00m\n\u001b[1;32m    748\u001b[0m \u001b[43m        \u001b[49m\u001b[38;5;66;43;03m# type \"Optional[Collection[Any]]\"; expected \"Optional[Index]\"\u001b[39;49;00m\n\u001b[1;32m    749\u001b[0m \u001b[43m        \u001b[49m\u001b[43mdata\u001b[49m\u001b[43m,\u001b[49m\n\u001b[1;32m    750\u001b[0m \u001b[43m        \u001b[49m\u001b[43mcolumns\u001b[49m\u001b[43m,\u001b[49m\n\u001b[1;32m    751\u001b[0m \u001b[43m        \u001b[49m\u001b[43mindex\u001b[49m\u001b[43m,\u001b[49m\u001b[43m  \u001b[49m\u001b[38;5;66;43;03m# type: ignore[arg-type]\u001b[39;49;00m\n\u001b[1;32m    752\u001b[0m \u001b[43m        \u001b[49m\u001b[43mdtype\u001b[49m\u001b[43m,\u001b[49m\n\u001b[1;32m    753\u001b[0m \u001b[43m    \u001b[49m\u001b[43m)\u001b[49m\n\u001b[1;32m    754\u001b[0m     mgr \u001b[38;5;241m=\u001b[39m arrays_to_mgr(\n\u001b[1;32m    755\u001b[0m         arrays,\n\u001b[1;32m    756\u001b[0m         columns,\n\u001b[0;32m   (...)\u001b[0m\n\u001b[1;32m    759\u001b[0m         typ\u001b[38;5;241m=\u001b[39mmanager,\n\u001b[1;32m    760\u001b[0m     )\n\u001b[1;32m    761\u001b[0m \u001b[38;5;28;01melse\u001b[39;00m:\n",
      "File \u001b[0;32m~/opt/anaconda3/lib/python3.9/site-packages/pandas/core/internals/construction.py:510\u001b[0m, in \u001b[0;36mnested_data_to_arrays\u001b[0;34m(data, columns, index, dtype)\u001b[0m\n\u001b[1;32m    507\u001b[0m \u001b[38;5;28;01mif\u001b[39;00m is_named_tuple(data[\u001b[38;5;241m0\u001b[39m]) \u001b[38;5;129;01mand\u001b[39;00m columns \u001b[38;5;129;01mis\u001b[39;00m \u001b[38;5;28;01mNone\u001b[39;00m:\n\u001b[1;32m    508\u001b[0m     columns \u001b[38;5;241m=\u001b[39m ensure_index(data[\u001b[38;5;241m0\u001b[39m]\u001b[38;5;241m.\u001b[39m_fields)\n\u001b[0;32m--> 510\u001b[0m arrays, columns \u001b[38;5;241m=\u001b[39m \u001b[43mto_arrays\u001b[49m\u001b[43m(\u001b[49m\u001b[43mdata\u001b[49m\u001b[43m,\u001b[49m\u001b[43m \u001b[49m\u001b[43mcolumns\u001b[49m\u001b[43m,\u001b[49m\u001b[43m \u001b[49m\u001b[43mdtype\u001b[49m\u001b[38;5;241;43m=\u001b[39;49m\u001b[43mdtype\u001b[49m\u001b[43m)\u001b[49m\n\u001b[1;32m    511\u001b[0m columns \u001b[38;5;241m=\u001b[39m ensure_index(columns)\n\u001b[1;32m    513\u001b[0m \u001b[38;5;28;01mif\u001b[39;00m index \u001b[38;5;129;01mis\u001b[39;00m \u001b[38;5;28;01mNone\u001b[39;00m:\n",
      "File \u001b[0;32m~/opt/anaconda3/lib/python3.9/site-packages/pandas/core/internals/construction.py:875\u001b[0m, in \u001b[0;36mto_arrays\u001b[0;34m(data, columns, dtype)\u001b[0m\n\u001b[1;32m    872\u001b[0m     data \u001b[38;5;241m=\u001b[39m [\u001b[38;5;28mtuple\u001b[39m(x) \u001b[38;5;28;01mfor\u001b[39;00m x \u001b[38;5;129;01min\u001b[39;00m data]\n\u001b[1;32m    873\u001b[0m     arr \u001b[38;5;241m=\u001b[39m _list_to_arrays(data)\n\u001b[0;32m--> 875\u001b[0m content, columns \u001b[38;5;241m=\u001b[39m \u001b[43m_finalize_columns_and_data\u001b[49m\u001b[43m(\u001b[49m\u001b[43marr\u001b[49m\u001b[43m,\u001b[49m\u001b[43m \u001b[49m\u001b[43mcolumns\u001b[49m\u001b[43m,\u001b[49m\u001b[43m \u001b[49m\u001b[43mdtype\u001b[49m\u001b[43m)\u001b[49m\n\u001b[1;32m    876\u001b[0m \u001b[38;5;28;01mreturn\u001b[39;00m content, columns\n",
      "File \u001b[0;32m~/opt/anaconda3/lib/python3.9/site-packages/pandas/core/internals/construction.py:972\u001b[0m, in \u001b[0;36m_finalize_columns_and_data\u001b[0;34m(content, columns, dtype)\u001b[0m\n\u001b[1;32m    969\u001b[0m     columns \u001b[38;5;241m=\u001b[39m _validate_or_indexify_columns(contents, columns)\n\u001b[1;32m    970\u001b[0m \u001b[38;5;28;01mexcept\u001b[39;00m \u001b[38;5;167;01mAssertionError\u001b[39;00m \u001b[38;5;28;01mas\u001b[39;00m err:\n\u001b[1;32m    971\u001b[0m     \u001b[38;5;66;03m# GH#26429 do not raise user-facing AssertionError\u001b[39;00m\n\u001b[0;32m--> 972\u001b[0m     \u001b[38;5;28;01mraise\u001b[39;00m \u001b[38;5;167;01mValueError\u001b[39;00m(err) \u001b[38;5;28;01mfrom\u001b[39;00m \u001b[38;5;21;01merr\u001b[39;00m\n\u001b[1;32m    974\u001b[0m \u001b[38;5;28;01mif\u001b[39;00m \u001b[38;5;28mlen\u001b[39m(contents) \u001b[38;5;129;01mand\u001b[39;00m contents[\u001b[38;5;241m0\u001b[39m]\u001b[38;5;241m.\u001b[39mdtype \u001b[38;5;241m==\u001b[39m np\u001b[38;5;241m.\u001b[39mobject_:\n\u001b[1;32m    975\u001b[0m     contents \u001b[38;5;241m=\u001b[39m _convert_object_array(contents, dtype\u001b[38;5;241m=\u001b[39mdtype)\n",
      "\u001b[0;31mValueError\u001b[0m: 11 columns passed, passed data had 12 columns"
     ]
    }
   ],
   "source": [
    "cursor.execute(sql)\n",
    "print('Number of rows: {}'.format(cursor.rowcount))\n",
    "data = cursor.fetchall()\n",
    "df = pd.DataFrame(data, columns=columns)"
   ]
  },
  {
   "cell_type": "code",
   "execution_count": null,
   "id": "ce6d339b",
   "metadata": {},
   "outputs": [],
   "source": [
    "df"
   ]
  }
 ],
 "metadata": {
  "kernelspec": {
   "display_name": "Python 3 (ipykernel)",
   "language": "python",
   "name": "python3"
  },
  "language_info": {
   "codemirror_mode": {
    "name": "ipython",
    "version": 3
   },
   "file_extension": ".py",
   "mimetype": "text/x-python",
   "name": "python",
   "nbconvert_exporter": "python",
   "pygments_lexer": "ipython3",
   "version": "3.9.18"
  }
 },
 "nbformat": 4,
 "nbformat_minor": 5
}
