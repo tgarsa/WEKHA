{
 "cells": [
  {
   "cell_type": "markdown",
   "id": "23c954eb",
   "metadata": {},
   "source": [
    "# Push CVS Players\n",
    "\n",
    "This notebook connect with the API to load a new player into the data base."
   ]
  },
  {
   "cell_type": "code",
   "execution_count": null,
   "id": "cef21d56",
   "metadata": {},
   "outputs": [],
   "source": [
    "# The expected imports\n",
    "\n",
    "import pandas as pd\n",
    "import numpy as np\n",
    "\n",
    "# to have access to the web service\n",
    "import requests"
   ]
  },
  {
   "cell_type": "markdown",
   "id": "a43f4ad9",
   "metadata": {},
   "source": [
    "# Define the connexion."
   ]
  },
  {
   "cell_type": "code",
   "execution_count": null,
   "id": "bf810134",
   "metadata": {},
   "outputs": [],
   "source": [
    "# The IP of the docker server\n",
    "\n",
    "# Mac ip\n",
    "# ip = \"192.168.178.36\"\n",
    "# From external connexions. \n",
    "ip = \"saizvirtual.ddns.net\""
   ]
  },
  {
   "cell_type": "markdown",
   "id": "d897dd0a",
   "metadata": {},
   "source": [
    "# Get Token"
   ]
  },
  {
   "cell_type": "code",
   "execution_count": null,
   "id": "da8b6d81",
   "metadata": {},
   "outputs": [],
   "source": [
    "# URLs to connected with the API-service\n",
    "url = 'http://{}:5000/token'.format(ip)"
   ]
  },
  {
   "cell_type": "code",
   "execution_count": null,
   "id": "b542861e",
   "metadata": {},
   "outputs": [],
   "source": [
    "# Send User and Paswword\n",
    "resp = requests.post(url, \n",
    "                     data={'username': 'tgarsa',\n",
    "                           'password':'secret'}\n",
    "                    )\n",
    "# resp = requests.post(url, data={'username': 'alice', 'password':'secret'})\n",
    "resp"
   ]
  },
  {
   "cell_type": "code",
   "execution_count": null,
   "id": "5aa589aa",
   "metadata": {},
   "outputs": [],
   "source": [
    "token = resp.json()['access_token']\n",
    "# print('Token: {}'.format(token))\n",
    "\n",
    "token_type = resp.json()['token_type']\n",
    "# print('Token Type: {}'.format(token_type))"
   ]
  },
  {
   "cell_type": "markdown",
   "id": "e26c6f00",
   "metadata": {},
   "source": [
    "## Define the Header"
   ]
  },
  {
   "cell_type": "code",
   "execution_count": null,
   "id": "e738b352",
   "metadata": {},
   "outputs": [],
   "source": [
    "headers = {\"Authorization\": \"{} {}\".format(token_type, token)}"
   ]
  },
  {
   "cell_type": "code",
   "execution_count": null,
   "id": "93d35550",
   "metadata": {},
   "outputs": [],
   "source": [
    "# headers"
   ]
  },
  {
   "cell_type": "markdown",
   "id": "29a07a1e",
   "metadata": {},
   "source": [
    "## New player. \n",
    "\n",
    "Define the new player, in this case we didn't avaluate if could be a duplicate player. But whole be necessary to do. \n",
    "\n",
    "TODO: Test if it is a real new player. "
   ]
  },
  {
   "cell_type": "code",
   "execution_count": null,
   "id": "c51bf10d",
   "metadata": {},
   "outputs": [],
   "source": [
    "df_player =  pd.read_csv('Games.csv', \n",
    "                         sep=';'\n",
    "                        )"
   ]
  },
  {
   "cell_type": "code",
   "execution_count": null,
   "id": "9aa96fea",
   "metadata": {},
   "outputs": [],
   "source": [
    "# df_player['observaciones'] = df_player['observaciones'].astype(str)"
   ]
  },
  {
   "cell_type": "code",
   "execution_count": null,
   "id": "af43d0ae",
   "metadata": {},
   "outputs": [],
   "source": [
    "df_player"
   ]
  },
  {
   "cell_type": "code",
   "execution_count": null,
   "id": "d0e03758",
   "metadata": {},
   "outputs": [],
   "source": [
    "# df_player = pd.DataFrame.from_dict(player, orient='index').transpose()"
   ]
  },
  {
   "cell_type": "markdown",
   "id": "7bf1f907",
   "metadata": {},
   "source": [
    "#### player"
   ]
  },
  {
   "cell_type": "code",
   "execution_count": null,
   "id": "277664a7",
   "metadata": {},
   "outputs": [],
   "source": [
    "# df_player"
   ]
  },
  {
   "cell_type": "code",
   "execution_count": null,
   "id": "224565bc",
   "metadata": {},
   "outputs": [],
   "source": [
    "df_json = df_player.to_json()"
   ]
  },
  {
   "cell_type": "code",
   "execution_count": null,
   "id": "a6ce3448",
   "metadata": {},
   "outputs": [],
   "source": [
    "df_json"
   ]
  },
  {
   "cell_type": "markdown",
   "id": "d8c94fec",
   "metadata": {},
   "source": [
    "# Load the player\n",
    "\n",
    "\n",
    "To load into the Database, acrross the API"
   ]
  },
  {
   "cell_type": "code",
   "execution_count": null,
   "id": "2689d55c",
   "metadata": {},
   "outputs": [],
   "source": [
    "# URLs to connected with the app-service\n",
    "# in this case the port is \n",
    "\n",
    "url = 'http://{}:5000/new'.format(ip)"
   ]
  },
  {
   "cell_type": "code",
   "execution_count": null,
   "id": "3ed287eb",
   "metadata": {},
   "outputs": [],
   "source": [
    "url"
   ]
  },
  {
   "cell_type": "code",
   "execution_count": null,
   "id": "7781e4ec",
   "metadata": {
    "scrolled": false
   },
   "outputs": [],
   "source": [
    "resp = requests.post(url, \n",
    "                     json={'df_json': df_json, \n",
    "                           'table':'pruebas'}, # Load in the correct database\n",
    "                    headers=headers\n",
    "                    )"
   ]
  },
  {
   "cell_type": "code",
   "execution_count": null,
   "id": "702599ee",
   "metadata": {},
   "outputs": [],
   "source": [
    "resp"
   ]
  },
  {
   "cell_type": "code",
   "execution_count": null,
   "id": "c8319e10",
   "metadata": {},
   "outputs": [],
   "source": [
    "resp.json()"
   ]
  },
  {
   "cell_type": "code",
   "execution_count": null,
   "id": "623a33a1",
   "metadata": {},
   "outputs": [],
   "source": []
  }
 ],
 "metadata": {
  "kernelspec": {
   "display_name": "Python 3 (ipykernel)",
   "language": "python",
   "name": "python3"
  },
  "language_info": {
   "codemirror_mode": {
    "name": "ipython",
    "version": 3
   },
   "file_extension": ".py",
   "mimetype": "text/x-python",
   "name": "python",
   "nbconvert_exporter": "python",
   "pygments_lexer": "ipython3",
   "version": "3.9.18"
  }
 },
 "nbformat": 4,
 "nbformat_minor": 5
}
