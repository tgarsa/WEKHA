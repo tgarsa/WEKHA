{
 "cells": [
  {
   "cell_type": "markdown",
   "id": "f0dd9623",
   "metadata": {},
   "source": [
    "# Get Championship data.\n",
    "\n",
    "In this notebook we will connect to the API to download the data of the championship under some condittions."
   ]
  },
  {
   "cell_type": "code",
   "execution_count": 1,
   "id": "45dd6d6d",
   "metadata": {},
   "outputs": [],
   "source": [
    "# The expected imports\n",
    "\n",
    "import pandas as pd\n",
    "import numpy as np\n",
    "\n",
    "# to have access to the web service\n",
    "import requests"
   ]
  },
  {
   "cell_type": "markdown",
   "id": "668bd5f2",
   "metadata": {},
   "source": [
    "# Define the connexion."
   ]
  },
  {
   "cell_type": "code",
   "execution_count": 2,
   "id": "5b86a315",
   "metadata": {},
   "outputs": [],
   "source": [
    "# The IP of the docker server\n",
    "\n",
    "# Mac ip\n",
    "# ip = \"192.168.178.36\"\n",
    "# From external connexions. \n",
    "ip = \"saizvirtual.ddns.net\""
   ]
  },
  {
   "cell_type": "markdown",
   "id": "37ca9e4b",
   "metadata": {},
   "source": [
    "# Get Token"
   ]
  },
  {
   "cell_type": "code",
   "execution_count": 3,
   "id": "504bf752",
   "metadata": {},
   "outputs": [],
   "source": [
    "# URLs to connected with the API-service\n",
    "url = 'http://{}:5000/token'.format(ip)"
   ]
  },
  {
   "cell_type": "code",
   "execution_count": 4,
   "id": "7fab0b10",
   "metadata": {},
   "outputs": [
    {
     "data": {
      "text/plain": [
       "<Response [200]>"
      ]
     },
     "execution_count": 4,
     "metadata": {},
     "output_type": "execute_result"
    }
   ],
   "source": [
    "# Send User and Paswword\n",
    "resp = requests.post(url, \n",
    "                     data={'username': 'tgarsa',\n",
    "                           'password':'secret'}\n",
    "                    )\n",
    "# resp = requests.post(url, data={'username': 'alice', 'password':'secret'})\n",
    "resp"
   ]
  },
  {
   "cell_type": "code",
   "execution_count": 5,
   "id": "e15b2c44",
   "metadata": {},
   "outputs": [],
   "source": [
    "token = resp.json()['access_token']\n",
    "# print('Token: {}'.format(token))\n",
    "\n",
    "token_type = resp.json()['token_type']\n",
    "# print('Token Type: {}'.format(token_type))"
   ]
  },
  {
   "cell_type": "markdown",
   "id": "5ad09d71",
   "metadata": {},
   "source": [
    "## Define the Header"
   ]
  },
  {
   "cell_type": "code",
   "execution_count": 6,
   "id": "d3d9e995",
   "metadata": {},
   "outputs": [],
   "source": [
    "headers = {\"Authorization\": \"{} {}\".format(token_type, token)}"
   ]
  },
  {
   "cell_type": "code",
   "execution_count": 7,
   "id": "ff801292",
   "metadata": {},
   "outputs": [],
   "source": [
    "# headers"
   ]
  },
  {
   "cell_type": "markdown",
   "id": "65035bb6",
   "metadata": {},
   "source": [
    "## Define the search "
   ]
  },
  {
   "cell_type": "code",
   "execution_count": 8,
   "id": "06dc545e",
   "metadata": {},
   "outputs": [],
   "source": [
    "data = {}\n",
    "# data['id'] = 'Peso23001'\n",
    "data['nombre'] = 'Peso'\n",
    "# data['enunciado'] = 'Adivina el peso'\n",
    "# data['material'] = 'Caja de pañuelos de papel'\n",
    "# data['discapacidades'] = 23\n",
    "# data['observaciones'] = ' '\n",
    "\n",
    "dj_search = pd.DataFrame.from_dict(data, orient='index').transpose()\n",
    "json_search = dj_search.to_json()"
   ]
  },
  {
   "cell_type": "markdown",
   "id": "6ee776b6",
   "metadata": {},
   "source": [
    "# Connect to the API"
   ]
  },
  {
   "cell_type": "code",
   "execution_count": 9,
   "id": "83555dd5",
   "metadata": {},
   "outputs": [],
   "source": [
    "# URLs to connected with the app-service\n",
    "# in this case the port is \n",
    "\n",
    "# url = 'http://{}:5000/get_player'.format(ip)\n",
    "url = 'http://{}:5000/get'.format(ip)"
   ]
  },
  {
   "cell_type": "code",
   "execution_count": 10,
   "id": "1ad7538a",
   "metadata": {},
   "outputs": [
    {
     "data": {
      "text/plain": [
       "'http://saizvirtual.ddns.net:5000/get'"
      ]
     },
     "execution_count": 10,
     "metadata": {},
     "output_type": "execute_result"
    }
   ],
   "source": [
    "url"
   ]
  },
  {
   "cell_type": "code",
   "execution_count": 11,
   "id": "d12e8bc9",
   "metadata": {},
   "outputs": [],
   "source": [
    "resp = requests.get(url, \n",
    "                    json={'df_json': json_search, \n",
    "                          'table':'pruebas'}, \n",
    "                   headers=headers\n",
    "                   )"
   ]
  },
  {
   "cell_type": "code",
   "execution_count": 12,
   "id": "5365b689",
   "metadata": {},
   "outputs": [
    {
     "data": {
      "text/plain": [
       "<Response [200]>"
      ]
     },
     "execution_count": 12,
     "metadata": {},
     "output_type": "execute_result"
    }
   ],
   "source": [
    "resp"
   ]
  },
  {
   "cell_type": "code",
   "execution_count": 13,
   "id": "aaedbefb",
   "metadata": {},
   "outputs": [
    {
     "data": {
      "text/plain": [
       "[[1,\n",
       "  'Peso23001',\n",
       "  'Peso',\n",
       "  'Adivina el peso',\n",
       "  'Caja de pañuelos de papel',\n",
       "  23,\n",
       "  ' 01/04/24:   \\n ',\n",
       "  '2024-04-01T20:57:11.562028',\n",
       "  '2024-04-01T20:57:11.562028'],\n",
       " [2,\n",
       "  'Peso23002',\n",
       "  'Peso',\n",
       "  'Adivina el peso',\n",
       "  'Caja de pañuelos de papel',\n",
       "  23,\n",
       "  ' 02/04/24:   \\n ',\n",
       "  '2024-04-02T16:54:09.905631',\n",
       "  '2024-04-02T16:54:09.905631'],\n",
       " [3,\n",
       "  'Peso23003',\n",
       "  'Peso',\n",
       "  'Adivina el peso de un Puro',\n",
       "  'Puro a medio fumar',\n",
       "  23,\n",
       "  ' 02/04/24:   \\n ',\n",
       "  '2024-04-02T20:39:18.191675',\n",
       "  '2024-04-02T20:39:18.191675'],\n",
       " [4,\n",
       "  'Peso23004',\n",
       "  'Peso',\n",
       "  'Adivina el peso de un Puro',\n",
       "  'Puro a medio fumar',\n",
       "  23,\n",
       "  ' 02/04/24:   \\n ',\n",
       "  '2024-04-02T20:41:31.258928',\n",
       "  '2024-04-02T20:41:31.258928'],\n",
       " [5,\n",
       "  'Peso0001',\n",
       "  'Peso',\n",
       "  'Adivina el peso de un Puro sin tocarlo',\n",
       "  'Puro a medio fumar',\n",
       "  0,\n",
       "  ' 02/04/24: Se pueden usar herramientas para moverlo pero sin tocarlo. \\n ',\n",
       "  '2024-04-02T20:41:31.456985',\n",
       "  '2024-04-02T20:41:31.456985']]"
      ]
     },
     "execution_count": 13,
     "metadata": {},
     "output_type": "execute_result"
    }
   ],
   "source": [
    "resp.json()"
   ]
  }
 ],
 "metadata": {
  "kernelspec": {
   "display_name": "Python 3 (ipykernel)",
   "language": "python",
   "name": "python3"
  },
  "language_info": {
   "codemirror_mode": {
    "name": "ipython",
    "version": 3
   },
   "file_extension": ".py",
   "mimetype": "text/x-python",
   "name": "python",
   "nbconvert_exporter": "python",
   "pygments_lexer": "ipython3",
   "version": "3.9.18"
  }
 },
 "nbformat": 4,
 "nbformat_minor": 5
}
