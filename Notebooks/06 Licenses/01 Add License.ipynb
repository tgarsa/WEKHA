{
 "cells": [
  {
   "cell_type": "markdown",
   "id": "23c954eb",
   "metadata": {},
   "source": [
    "# Add License\n",
    "\n",
    "This notebook connect with the API to load a new License into the data base."
   ]
  },
  {
   "cell_type": "code",
   "execution_count": 1,
   "id": "cef21d56",
   "metadata": {},
   "outputs": [],
   "source": [
    "# The expected imports\n",
    "\n",
    "import pandas as pd\n",
    "import numpy as np\n",
    "\n",
    "# to have access to the web service\n",
    "import requests"
   ]
  },
  {
   "cell_type": "markdown",
   "id": "a43f4ad9",
   "metadata": {},
   "source": [
    "# Define the connexion."
   ]
  },
  {
   "cell_type": "code",
   "execution_count": 2,
   "id": "bf810134",
   "metadata": {},
   "outputs": [],
   "source": [
    "# The IP of the docker server\n",
    "\n",
    "# Mac ip\n",
    "# ip = \"192.168.178.36\"\n",
    "# From external connexions. \n",
    "ip = \"saizvirtual.ddns.net\""
   ]
  },
  {
   "cell_type": "markdown",
   "id": "a2fbe1f2",
   "metadata": {},
   "source": [
    "# Get Token"
   ]
  },
  {
   "cell_type": "code",
   "execution_count": 3,
   "id": "51d2ef4d",
   "metadata": {},
   "outputs": [],
   "source": [
    "# URLs to connected with the API-service\n",
    "url = 'http://{}:5000/token'.format(ip)"
   ]
  },
  {
   "cell_type": "code",
   "execution_count": 4,
   "id": "a251bfcf",
   "metadata": {},
   "outputs": [
    {
     "data": {
      "text/plain": [
       "<Response [200]>"
      ]
     },
     "execution_count": 4,
     "metadata": {},
     "output_type": "execute_result"
    }
   ],
   "source": [
    "# Send User and Paswword\n",
    "resp = requests.post(url, \n",
    "                     data={'username': 'tgarsa',\n",
    "                           'password':'secret'}\n",
    "                    )\n",
    "# resp = requests.post(url, data={'username': 'alice', 'password':'secret'})\n",
    "resp"
   ]
  },
  {
   "cell_type": "code",
   "execution_count": 5,
   "id": "33ffbf2d",
   "metadata": {},
   "outputs": [],
   "source": [
    "token = resp.json()['access_token']\n",
    "# print('Token: {}'.format(token))\n",
    "\n",
    "token_type = resp.json()['token_type']\n",
    "# print('Token Type: {}'.format(token_type))"
   ]
  },
  {
   "cell_type": "markdown",
   "id": "1820a56f",
   "metadata": {},
   "source": [
    "## Define the Header"
   ]
  },
  {
   "cell_type": "code",
   "execution_count": 6,
   "id": "c962251a",
   "metadata": {},
   "outputs": [],
   "source": [
    "headers = {\"Authorization\": \"{} {}\".format(token_type, token)}"
   ]
  },
  {
   "cell_type": "code",
   "execution_count": 7,
   "id": "1d0f521f",
   "metadata": {},
   "outputs": [],
   "source": [
    "# headers"
   ]
  },
  {
   "cell_type": "markdown",
   "id": "29a07a1e",
   "metadata": {},
   "source": [
    "## New Hosts (Sede). \n",
    "\n",
    "Define the new hosts"
   ]
  },
  {
   "cell_type": "code",
   "execution_count": 8,
   "id": "f43e1524",
   "metadata": {},
   "outputs": [],
   "source": [
    "license = {}\n",
    "license['id_organizador'] = 'TGS001'\n",
    "license['ambito'] = 'EspaÑa'\n",
    "# license['hasta'] ="
   ]
  },
  {
   "cell_type": "code",
   "execution_count": 9,
   "id": "d0e03758",
   "metadata": {},
   "outputs": [],
   "source": [
    "df_hosts = pd.DataFrame.from_dict(license, orient='index').transpose()"
   ]
  },
  {
   "cell_type": "markdown",
   "id": "7bf1f907",
   "metadata": {},
   "source": [
    "#### hosts"
   ]
  },
  {
   "cell_type": "code",
   "execution_count": 10,
   "id": "277664a7",
   "metadata": {},
   "outputs": [],
   "source": [
    "# df_hosts"
   ]
  },
  {
   "cell_type": "code",
   "execution_count": 11,
   "id": "224565bc",
   "metadata": {},
   "outputs": [],
   "source": [
    "df_json = df_hosts.to_json()"
   ]
  },
  {
   "cell_type": "code",
   "execution_count": 12,
   "id": "a6ce3448",
   "metadata": {},
   "outputs": [],
   "source": [
    "# df_json"
   ]
  },
  {
   "cell_type": "markdown",
   "id": "d8c94fec",
   "metadata": {},
   "source": [
    "# Load the hosts\n",
    "\n",
    "\n",
    "To load into the Database, acrross the API"
   ]
  },
  {
   "cell_type": "code",
   "execution_count": 13,
   "id": "2689d55c",
   "metadata": {},
   "outputs": [],
   "source": [
    "# URLs to connected with the app-service\n",
    "# in this case the port is \n",
    "\n",
    "url = 'http://{}:5000/new'.format(ip)"
   ]
  },
  {
   "cell_type": "code",
   "execution_count": 14,
   "id": "3ed287eb",
   "metadata": {},
   "outputs": [
    {
     "data": {
      "text/plain": [
       "'http://saizvirtual.ddns.net:5000/new'"
      ]
     },
     "execution_count": 14,
     "metadata": {},
     "output_type": "execute_result"
    }
   ],
   "source": [
    "url"
   ]
  },
  {
   "cell_type": "code",
   "execution_count": 15,
   "id": "7781e4ec",
   "metadata": {
    "scrolled": false
   },
   "outputs": [],
   "source": [
    "resp = requests.post(url, \n",
    "                     json={'df_json': df_json, \n",
    "                           'table':'licencias'},\n",
    "                    headers=headers\n",
    "                    )"
   ]
  },
  {
   "cell_type": "code",
   "execution_count": 16,
   "id": "702599ee",
   "metadata": {},
   "outputs": [
    {
     "data": {
      "text/plain": [
       "<Response [200]>"
      ]
     },
     "execution_count": 16,
     "metadata": {},
     "output_type": "execute_result"
    }
   ],
   "source": [
    "resp"
   ]
  },
  {
   "cell_type": "code",
   "execution_count": 17,
   "id": "c8319e10",
   "metadata": {},
   "outputs": [
    {
     "data": {
      "text/plain": [
       "{'label': 'Done it'}"
      ]
     },
     "execution_count": 17,
     "metadata": {},
     "output_type": "execute_result"
    }
   ],
   "source": [
    "resp.json()"
   ]
  },
  {
   "cell_type": "code",
   "execution_count": null,
   "id": "623a33a1",
   "metadata": {},
   "outputs": [],
   "source": []
  }
 ],
 "metadata": {
  "kernelspec": {
   "display_name": "Python 3 (ipykernel)",
   "language": "python",
   "name": "python3"
  },
  "language_info": {
   "codemirror_mode": {
    "name": "ipython",
    "version": 3
   },
   "file_extension": ".py",
   "mimetype": "text/x-python",
   "name": "python",
   "nbconvert_exporter": "python",
   "pygments_lexer": "ipython3",
   "version": "3.9.18"
  }
 },
 "nbformat": 4,
 "nbformat_minor": 5
}
