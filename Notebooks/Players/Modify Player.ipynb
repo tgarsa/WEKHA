{
 "cells": [
  {
   "cell_type": "markdown",
   "id": "a120c24f",
   "metadata": {},
   "source": [
    "# Initial Imports"
   ]
  },
  {
   "cell_type": "code",
   "execution_count": 32,
   "id": "48d648ea",
   "metadata": {},
   "outputs": [],
   "source": [
    "import pandas as pd\n",
    "import numpy as np \n",
    "\n",
    "# To have access to the database\n",
    "import requests"
   ]
  },
  {
   "cell_type": "code",
   "execution_count": 33,
   "id": "00e00118",
   "metadata": {},
   "outputs": [],
   "source": [
    "# Mac ip\n",
    "ip = \"192.168.178.36\"\n",
    "# Raspberry pi 3 IP\n",
    "# ip = \"192.168.178.172\"\n",
    "# From external connexions. \n",
    "# ip = \"saizvirtual.ddns.net\""
   ]
  },
  {
   "cell_type": "markdown",
   "id": "8a72e0e5",
   "metadata": {},
   "source": [
    "# Define data to modify "
   ]
  },
  {
   "cell_type": "code",
   "execution_count": 34,
   "id": "f872bd51",
   "metadata": {},
   "outputs": [],
   "source": [
    "player = {}\n",
    "player['id_jugador'] = 'IAGS003'\n",
    "# player['residencia'] = 'Verona'\n",
    "player['email'] = 'tgarsa@GMAIL.com'\n",
    "\n",
    "df_player = pd.DataFrame.from_dict(player, orient='index').transpose()\n",
    "json_player = df_player.to_json()"
   ]
  },
  {
   "cell_type": "markdown",
   "id": "9f41845f",
   "metadata": {},
   "source": [
    "# Connect to the API"
   ]
  },
  {
   "cell_type": "code",
   "execution_count": 35,
   "id": "374ef842",
   "metadata": {},
   "outputs": [],
   "source": [
    "# URLs to connected with the app-service\n",
    "# in this case the port is 5000 \n",
    "\n",
    "url = 'http://{}:5000/update_player'.format(ip)"
   ]
  },
  {
   "cell_type": "code",
   "execution_count": 36,
   "id": "fff57ea9",
   "metadata": {},
   "outputs": [
    {
     "data": {
      "text/plain": [
       "'http://192.168.178.36:5000/update_player'"
      ]
     },
     "execution_count": 36,
     "metadata": {},
     "output_type": "execute_result"
    }
   ],
   "source": [
    "url"
   ]
  },
  {
   "cell_type": "code",
   "execution_count": 37,
   "id": "25222752",
   "metadata": {},
   "outputs": [],
   "source": [
    "resp = requests.post(url, json={'df_json': json_player})"
   ]
  },
  {
   "cell_type": "code",
   "execution_count": 38,
   "id": "ddd97be8",
   "metadata": {},
   "outputs": [
    {
     "data": {
      "text/plain": [
       "<Response [200]>"
      ]
     },
     "execution_count": 38,
     "metadata": {},
     "output_type": "execute_result"
    }
   ],
   "source": [
    "resp"
   ]
  },
  {
   "cell_type": "code",
   "execution_count": 39,
   "id": "c052e622",
   "metadata": {},
   "outputs": [
    {
     "data": {
      "text/plain": [
       "{'label': 'It done'}"
      ]
     },
     "execution_count": 39,
     "metadata": {},
     "output_type": "execute_result"
    }
   ],
   "source": [
    "resp.json()"
   ]
  }
 ],
 "metadata": {
  "kernelspec": {
   "display_name": "Python 3 (ipykernel)",
   "language": "python",
   "name": "python3"
  },
  "language_info": {
   "codemirror_mode": {
    "name": "ipython",
    "version": 3
   },
   "file_extension": ".py",
   "mimetype": "text/x-python",
   "name": "python",
   "nbconvert_exporter": "python",
   "pygments_lexer": "ipython3",
   "version": "3.9.18"
  }
 },
 "nbformat": 4,
 "nbformat_minor": 5
}
