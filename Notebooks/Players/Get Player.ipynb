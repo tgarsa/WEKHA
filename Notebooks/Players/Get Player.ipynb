{
 "cells": [
  {
   "cell_type": "markdown",
   "id": "f0dd9623",
   "metadata": {},
   "source": [
    "# Get Player data.\n",
    "\n",
    "In this notebook we will connect to the API to download teh data of the players tio have some condittions."
   ]
  },
  {
   "cell_type": "code",
   "execution_count": null,
   "id": "45dd6d6d",
   "metadata": {},
   "outputs": [],
   "source": [
    "# The expected imports\n",
    "\n",
    "import pandas as pd\n",
    "import numpy as np\n",
    "\n",
    "# to have access to the web service\n",
    "import requests"
   ]
  },
  {
   "cell_type": "markdown",
   "id": "668bd5f2",
   "metadata": {},
   "source": [
    "# Define the connexion."
   ]
  },
  {
   "cell_type": "code",
   "execution_count": null,
   "id": "5b86a315",
   "metadata": {},
   "outputs": [],
   "source": [
    "# The IP of the docker server\n",
    "\n",
    "# Mac ip\n",
    "ip = \"192.168.178.36\"\n",
    "# Raspberry pi 3 IP\n",
    "# ip = \"192.168.178.172\"\n",
    "# From external connexions. \n",
    "# ip = \"saizvirtual.ddns.net\""
   ]
  },
  {
   "cell_type": "markdown",
   "id": "65035bb6",
   "metadata": {},
   "source": [
    "## Define the search "
   ]
  },
  {
   "cell_type": "code",
   "execution_count": null,
   "id": "06dc545e",
   "metadata": {},
   "outputs": [],
   "source": [
    "search ={}\n",
    "# search['dni'] = '2890337'\n",
    "# search['nick'] = 'smurf'\n",
    "# search['email'] = 'tgarsa@me.com'\n",
    "search['email'] = 'TGARSA@ME.com'\n",
    "dj_search = pd.DataFrame.from_dict(search, orient='index').transpose()\n",
    "json_search = dj_search.to_json()"
   ]
  },
  {
   "cell_type": "code",
   "execution_count": null,
   "id": "9d6e747c",
   "metadata": {},
   "outputs": [],
   "source": [
    "a = 'smuRF'\n",
    "a.capitalize()"
   ]
  },
  {
   "cell_type": "code",
   "execution_count": null,
   "id": "da0d9b7d",
   "metadata": {},
   "outputs": [],
   "source": [
    "a = 'tomas garcia'\n",
    "# result = ''.join(f'&markers={pair}' for pair in markers)\n",
    "result = ' '.join(it.capitalize() for it in a.split(' '))\n",
    "print(result)\n",
    "# '{} '.format(it.capitalize()) for it in a.split(' ')\n",
    "# print(salida)"
   ]
  },
  {
   "cell_type": "markdown",
   "id": "6ee776b6",
   "metadata": {},
   "source": [
    "# Connect to the API"
   ]
  },
  {
   "cell_type": "code",
   "execution_count": null,
   "id": "83555dd5",
   "metadata": {},
   "outputs": [],
   "source": [
    "# URLs to connected with the app-service\n",
    "# in this case the port is \n",
    "\n",
    "url = 'http://{}:5000/get_player'.format(ip)"
   ]
  },
  {
   "cell_type": "code",
   "execution_count": null,
   "id": "1ad7538a",
   "metadata": {},
   "outputs": [],
   "source": [
    "url"
   ]
  },
  {
   "cell_type": "code",
   "execution_count": null,
   "id": "d12e8bc9",
   "metadata": {},
   "outputs": [],
   "source": [
    "resp = requests.get(url, json={'df_json': json_search})"
   ]
  },
  {
   "cell_type": "code",
   "execution_count": null,
   "id": "5365b689",
   "metadata": {},
   "outputs": [],
   "source": [
    "resp"
   ]
  },
  {
   "cell_type": "code",
   "execution_count": null,
   "id": "fd5e4cf4",
   "metadata": {},
   "outputs": [],
   "source": [
    "resp.json()"
   ]
  }
 ],
 "metadata": {
  "kernelspec": {
   "display_name": "Python 3 (ipykernel)",
   "language": "python",
   "name": "python3"
  },
  "language_info": {
   "codemirror_mode": {
    "name": "ipython",
    "version": 3
   },
   "file_extension": ".py",
   "mimetype": "text/x-python",
   "name": "python",
   "nbconvert_exporter": "python",
   "pygments_lexer": "ipython3",
   "version": "3.9.18"
  }
 },
 "nbformat": 4,
 "nbformat_minor": 5
}
