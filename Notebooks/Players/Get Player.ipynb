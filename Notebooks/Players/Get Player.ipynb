{
 "cells": [
  {
   "cell_type": "markdown",
   "id": "f0dd9623",
   "metadata": {},
   "source": [
    "# Get Player data.\n",
    "\n",
    "In this notebook we will connect to the API to download teh data of the players tio have some condittions."
   ]
  },
  {
   "cell_type": "code",
   "execution_count": 97,
   "id": "45dd6d6d",
   "metadata": {},
   "outputs": [],
   "source": [
    "# The expected imports\n",
    "\n",
    "import pandas as pd\n",
    "import numpy as np\n",
    "\n",
    "# to have access to the web service\n",
    "import requests"
   ]
  },
  {
   "cell_type": "markdown",
   "id": "668bd5f2",
   "metadata": {},
   "source": [
    "# Define the connexion."
   ]
  },
  {
   "cell_type": "code",
   "execution_count": 98,
   "id": "5b86a315",
   "metadata": {},
   "outputs": [],
   "source": [
    "# The IP of the docker server\n",
    "\n",
    "# Mac ip\n",
    "ip = \"192.168.178.36\"\n",
    "# Raspberry pi 3 IP\n",
    "# ip = \"192.168.178.172\"\n",
    "# From external connexions. \n",
    "# ip = \"saizvirtual.ddns.net\""
   ]
  },
  {
   "cell_type": "markdown",
   "id": "65035bb6",
   "metadata": {},
   "source": [
    "## Define the search "
   ]
  },
  {
   "cell_type": "code",
   "execution_count": 99,
   "id": "06dc545e",
   "metadata": {},
   "outputs": [],
   "source": [
    "search ={}\n",
    "# search['dni'] = '2890337'\n",
    "# search['nick'] = 'smurf'\n",
    "# search['email'] = 'tgarsa@me.com'\n",
    "search['email'] = 'TGARSA@ME.com'\n",
    "dj_search = pd.DataFrame.from_dict(search, orient='index').transpose()\n",
    "json_search = dj_search.to_json()"
   ]
  },
  {
   "cell_type": "code",
   "execution_count": 108,
   "id": "9d6e747c",
   "metadata": {},
   "outputs": [
    {
     "data": {
      "text/plain": [
       "'Smurf'"
      ]
     },
     "execution_count": 108,
     "metadata": {},
     "output_type": "execute_result"
    }
   ],
   "source": [
    "a = 'smuRF'\n",
    "a.capitalize()"
   ]
  },
  {
   "cell_type": "code",
   "execution_count": 147,
   "id": "da0d9b7d",
   "metadata": {},
   "outputs": [
    {
     "name": "stdout",
     "output_type": "stream",
     "text": [
      "Tomas Garcia\n"
     ]
    }
   ],
   "source": [
    "a = 'tomas garcia'\n",
    "# result = ''.join(f'&markers={pair}' for pair in markers)\n",
    "result = ' '.join(it.capitalize() for it in a.split(' '))\n",
    "print(result)\n",
    "# '{} '.format(it.capitalize()) for it in a.split(' ')\n",
    "# print(salida)"
   ]
  },
  {
   "cell_type": "markdown",
   "id": "6ee776b6",
   "metadata": {},
   "source": [
    "# Connect to the API"
   ]
  },
  {
   "cell_type": "code",
   "execution_count": 100,
   "id": "83555dd5",
   "metadata": {},
   "outputs": [],
   "source": [
    "# URLs to connected with the app-service\n",
    "# in this case the port is \n",
    "\n",
    "url = 'http://{}:5000/get_player'.format(ip)"
   ]
  },
  {
   "cell_type": "code",
   "execution_count": 101,
   "id": "1ad7538a",
   "metadata": {},
   "outputs": [
    {
     "data": {
      "text/plain": [
       "'http://192.168.178.36:5000/get_player'"
      ]
     },
     "execution_count": 101,
     "metadata": {},
     "output_type": "execute_result"
    }
   ],
   "source": [
    "url"
   ]
  },
  {
   "cell_type": "code",
   "execution_count": 102,
   "id": "d12e8bc9",
   "metadata": {},
   "outputs": [],
   "source": [
    "resp = requests.get(url, json={'df_json': json_search})"
   ]
  },
  {
   "cell_type": "code",
   "execution_count": 103,
   "id": "5365b689",
   "metadata": {},
   "outputs": [
    {
     "data": {
      "text/plain": [
       "<Response [200]>"
      ]
     },
     "execution_count": 103,
     "metadata": {},
     "output_type": "execute_result"
    }
   ],
   "source": [
    "resp"
   ]
  },
  {
   "cell_type": "code",
   "execution_count": 104,
   "id": "fd5e4cf4",
   "metadata": {},
   "outputs": [
    {
     "data": {
      "text/plain": [
       "[[5,\n",
       "  'TGS004',\n",
       "  '2890337',\n",
       "  'Tomas',\n",
       "  'Garcia Saiz',\n",
       "  'smurf',\n",
       "  'tgarsa@me.com',\n",
       "  '916290532',\n",
       "  'Madrid',\n",
       "  'XXL',\n",
       "  'Multiples',\n",
       "  'Tonto el culo'],\n",
       " [6,\n",
       "  'TGS005',\n",
       "  '2890337',\n",
       "  'Tomas',\n",
       "  'Garcia Saiz',\n",
       "  'smurf',\n",
       "  'tgarsa@me.com',\n",
       "  '916290532',\n",
       "  'Madrid',\n",
       "  'XXL',\n",
       "  'Multiples',\n",
       "  'Tonto el culo'],\n",
       " [7,\n",
       "  'TGS006',\n",
       "  '2890331',\n",
       "  'Tomas',\n",
       "  'Garcia Saiz',\n",
       "  'smurf',\n",
       "  'tgarsa@me.com',\n",
       "  '916290532',\n",
       "  'Madrid',\n",
       "  'XXL',\n",
       "  'Multiples',\n",
       "  'Tonto el culo'],\n",
       " [8,\n",
       "  'IAGS001',\n",
       "  '2890331',\n",
       "  'Ignacio Antonio',\n",
       "  'Garcia Saiz',\n",
       "  'smurf',\n",
       "  'tgarsa@me.com',\n",
       "  '916290532',\n",
       "  'Madrid',\n",
       "  'XXL',\n",
       "  'Multiples',\n",
       "  'Tonto el culo'],\n",
       " [9,\n",
       "  'IAGS002',\n",
       "  '2890331',\n",
       "  'Ignacio Antonio',\n",
       "  'Garcia Saiz',\n",
       "  'smurf',\n",
       "  'tgarsa@me.com',\n",
       "  '916290532',\n",
       "  'Madrid',\n",
       "  'XXL',\n",
       "  'Multiples',\n",
       "  'Tonto el culo'],\n",
       " [11,\n",
       "  'IAGS004',\n",
       "  '2890339',\n",
       "  'Ignacio Antonio',\n",
       "  'Garcia Saiz',\n",
       "  'smurf',\n",
       "  'tgarsa@me.com',\n",
       "  '916290533',\n",
       "  'Madrid',\n",
       "  'XXL',\n",
       "  'Multiples',\n",
       "  'Tonto el culo'],\n",
       " [12,\n",
       "  'IAGS005',\n",
       "  '2890339',\n",
       "  'Ignacio Antonio',\n",
       "  'Garcia Saiz',\n",
       "  'smurf',\n",
       "  'tgarsa@me.com',\n",
       "  '916290533',\n",
       "  'Madrid',\n",
       "  'XXL',\n",
       "  'Multiples',\n",
       "  'Tonto el culo']]"
      ]
     },
     "execution_count": 104,
     "metadata": {},
     "output_type": "execute_result"
    }
   ],
   "source": [
    "resp.json()"
   ]
  }
 ],
 "metadata": {
  "kernelspec": {
   "display_name": "Python 3 (ipykernel)",
   "language": "python",
   "name": "python3"
  },
  "language_info": {
   "codemirror_mode": {
    "name": "ipython",
    "version": 3
   },
   "file_extension": ".py",
   "mimetype": "text/x-python",
   "name": "python",
   "nbconvert_exporter": "python",
   "pygments_lexer": "ipython3",
   "version": "3.9.18"
  }
 },
 "nbformat": 4,
 "nbformat_minor": 5
}
