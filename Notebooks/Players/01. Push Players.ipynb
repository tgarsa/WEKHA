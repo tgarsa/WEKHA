{
 "cells": [
  {
   "cell_type": "markdown",
   "id": "23c954eb",
   "metadata": {},
   "source": [
    "# Push Players\n",
    "\n",
    "This notebook connect with the API to load a new player into the data base."
   ]
  },
  {
   "cell_type": "code",
   "execution_count": 1,
   "id": "cef21d56",
   "metadata": {},
   "outputs": [],
   "source": [
    "# The expected imports\n",
    "\n",
    "import pandas as pd\n",
    "import numpy as np\n",
    "\n",
    "# to have access to the web service\n",
    "import requests"
   ]
  },
  {
   "cell_type": "markdown",
   "id": "a43f4ad9",
   "metadata": {},
   "source": [
    "# Define the connexion."
   ]
  },
  {
   "cell_type": "code",
   "execution_count": 2,
   "id": "bf810134",
   "metadata": {},
   "outputs": [],
   "source": [
    "# The IP of the docker server\n",
    "\n",
    "# Mac ip\n",
    "# ip = \"192.168.178.36\"\n",
    "# Raspberry pi 3 IP\n",
    "# ip = \"192.168.178.172\"\n",
    "# From external connexions. \n",
    "ip = \"saizvirtual.ddns.net\""
   ]
  },
  {
   "cell_type": "markdown",
   "id": "29a07a1e",
   "metadata": {},
   "source": [
    "## New player. \n",
    "\n",
    "Define the new player, in this case we didn't avaluate if could be a duplicate player. But whole be necessary to do. \n",
    "\n",
    "TODO: Test if it is a real new player. "
   ]
  },
  {
   "cell_type": "code",
   "execution_count": 3,
   "id": "566a2049",
   "metadata": {},
   "outputs": [],
   "source": [
    "# player = {}\n",
    "# player['nombre'] = 'Maria DEL CARMEN'\n",
    "# player['apellidos'] = 'Saiz Ruiz'\n",
    "# player['dni'] = '72.010.356'\n",
    "# player['nick'] = 'CarminA'\n",
    "# player['email'] = 'carminasaizruiz@me.com'\n",
    "# player['telefono'] = '916290532'\n",
    "# player['residencia'] = 'Cabezon de la Sal'\n",
    "# player['pais'] = 'España'\n",
    "# player['talla'] = 'XXL'\n",
    "# player['discapacidades'] = 'Multiples'\n",
    "# player['observaciones'] = 'Tonto el culo'"
   ]
  },
  {
   "cell_type": "code",
   "execution_count": 4,
   "id": "f43e1524",
   "metadata": {},
   "outputs": [],
   "source": [
    "player = {}\n",
    "player['nombre'] = 'TOMAS'\n",
    "player['apellidos'] = 'GARICA SAIZ'\n",
    "player['dni'] = '2890340-L'\n",
    "player['nick'] = 'Smurf'\n",
    "player['email'] = 'TGARS2@ME.Com'\n",
    "player['telefono'] = 614297914\n",
    "player['residencia'] = 'Amsterdam'\n",
    "player['pais'] = 'PAises BAJOS'\n",
    "player['talla'] = 'XXL'\n",
    "player['discapacidades'] = 'Multiples'\n",
    "player['observaciones'] = 'Tonto el culo'"
   ]
  },
  {
   "cell_type": "code",
   "execution_count": 5,
   "id": "d0e03758",
   "metadata": {},
   "outputs": [],
   "source": [
    "df_player = pd.DataFrame.from_dict(player, orient='index').transpose()"
   ]
  },
  {
   "cell_type": "markdown",
   "id": "7bf1f907",
   "metadata": {},
   "source": [
    "#### player"
   ]
  },
  {
   "cell_type": "code",
   "execution_count": 6,
   "id": "277664a7",
   "metadata": {},
   "outputs": [],
   "source": [
    "# df_player"
   ]
  },
  {
   "cell_type": "code",
   "execution_count": 7,
   "id": "224565bc",
   "metadata": {},
   "outputs": [],
   "source": [
    "df_json = df_player.to_json()"
   ]
  },
  {
   "cell_type": "code",
   "execution_count": 8,
   "id": "a6ce3448",
   "metadata": {},
   "outputs": [],
   "source": [
    "# df_json"
   ]
  },
  {
   "cell_type": "markdown",
   "id": "d8c94fec",
   "metadata": {},
   "source": [
    "# Load the player\n",
    "\n",
    "\n",
    "To load into the Database, acrross the API"
   ]
  },
  {
   "cell_type": "code",
   "execution_count": 9,
   "id": "2689d55c",
   "metadata": {},
   "outputs": [],
   "source": [
    "# URLs to connected with the app-service\n",
    "# in this case the port is \n",
    "\n",
    "url = 'http://{}:5000/new_player'.format(ip)"
   ]
  },
  {
   "cell_type": "code",
   "execution_count": 10,
   "id": "3ed287eb",
   "metadata": {},
   "outputs": [
    {
     "data": {
      "text/plain": [
       "'http://saizvirtual.ddns.net:5000/new_player'"
      ]
     },
     "execution_count": 10,
     "metadata": {},
     "output_type": "execute_result"
    }
   ],
   "source": [
    "url"
   ]
  },
  {
   "cell_type": "code",
   "execution_count": 11,
   "id": "7781e4ec",
   "metadata": {
    "scrolled": false
   },
   "outputs": [],
   "source": [
    "resp = requests.post(url, json={'df_json': df_json})"
   ]
  },
  {
   "cell_type": "code",
   "execution_count": 12,
   "id": "702599ee",
   "metadata": {},
   "outputs": [
    {
     "data": {
      "text/plain": [
       "<Response [200]>"
      ]
     },
     "execution_count": 12,
     "metadata": {},
     "output_type": "execute_result"
    }
   ],
   "source": [
    "resp"
   ]
  },
  {
   "cell_type": "code",
   "execution_count": 13,
   "id": "c8319e10",
   "metadata": {},
   "outputs": [
    {
     "data": {
      "text/plain": [
       "'Bronze Layer: OK. Silver Layer: OK. '"
      ]
     },
     "execution_count": 13,
     "metadata": {},
     "output_type": "execute_result"
    }
   ],
   "source": [
    "resp.json()['label']"
   ]
  },
  {
   "cell_type": "code",
   "execution_count": null,
   "id": "623a33a1",
   "metadata": {},
   "outputs": [],
   "source": []
  }
 ],
 "metadata": {
  "kernelspec": {
   "display_name": "Python 3 (ipykernel)",
   "language": "python",
   "name": "python3"
  },
  "language_info": {
   "codemirror_mode": {
    "name": "ipython",
    "version": 3
   },
   "file_extension": ".py",
   "mimetype": "text/x-python",
   "name": "python",
   "nbconvert_exporter": "python",
   "pygments_lexer": "ipython3",
   "version": "3.9.18"
  }
 },
 "nbformat": 4,
 "nbformat_minor": 5
}
