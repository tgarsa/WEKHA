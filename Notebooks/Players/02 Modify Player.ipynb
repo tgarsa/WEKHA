{
 "cells": [
  {
   "cell_type": "markdown",
   "id": "77b32faa",
   "metadata": {},
   "source": [
    "# Initial Imports"
   ]
  },
  {
   "cell_type": "code",
   "execution_count": 9,
   "id": "f1fee78e",
   "metadata": {},
   "outputs": [],
   "source": [
    "import pandas as pd\n",
    "import numpy as np \n",
    "\n",
    "# To have access to the database\n",
    "import requests"
   ]
  },
  {
   "cell_type": "code",
   "execution_count": 10,
   "id": "dc216df3",
   "metadata": {},
   "outputs": [],
   "source": [
    "# Mac ip\n",
    "# ip = \"192.168.178.36\"\n",
    "# Raspberry pi 3 IP\n",
    "# ip = \"192.168.178.172\"\n",
    "# From external connexions. \n",
    "ip = \"saizvirtual.ddns.net\""
   ]
  },
  {
   "cell_type": "markdown",
   "id": "bb3368c9",
   "metadata": {},
   "source": [
    "# Define data to modify "
   ]
  },
  {
   "cell_type": "code",
   "execution_count": 11,
   "id": "472b8e27",
   "metadata": {},
   "outputs": [],
   "source": [
    "player = {}\n",
    "player['id_jugador'] = 'TGS001'\n",
    "# player['residencia'] = 'Porriño'\n",
    "player['email'] = 'tGARsa@ME.com.7'\n",
    "\n",
    "df_player = pd.DataFrame.from_dict(player, orient='index').transpose()\n",
    "json_player = df_player.to_json()"
   ]
  },
  {
   "cell_type": "markdown",
   "id": "167b5043",
   "metadata": {},
   "source": [
    "# Connect to the API"
   ]
  },
  {
   "cell_type": "code",
   "execution_count": 12,
   "id": "af8c165d",
   "metadata": {},
   "outputs": [],
   "source": [
    "# URLs to connected with the app-service\n",
    "# in this case the port is 5000 \n",
    "\n",
    "url = 'http://{}:5000/update_player'.format(ip)"
   ]
  },
  {
   "cell_type": "code",
   "execution_count": 13,
   "id": "60ee8067",
   "metadata": {},
   "outputs": [
    {
     "data": {
      "text/plain": [
       "'http://saizvirtual.ddns.net:5000/update_player'"
      ]
     },
     "execution_count": 13,
     "metadata": {},
     "output_type": "execute_result"
    }
   ],
   "source": [
    "url"
   ]
  },
  {
   "cell_type": "code",
   "execution_count": 14,
   "id": "59661dc8",
   "metadata": {},
   "outputs": [],
   "source": [
    "resp = requests.post(url, json={'df_json': json_player})"
   ]
  },
  {
   "cell_type": "code",
   "execution_count": 15,
   "id": "87ea80c8",
   "metadata": {},
   "outputs": [
    {
     "data": {
      "text/plain": [
       "<Response [200]>"
      ]
     },
     "execution_count": 15,
     "metadata": {},
     "output_type": "execute_result"
    }
   ],
   "source": [
    "resp"
   ]
  },
  {
   "cell_type": "code",
   "execution_count": 16,
   "id": "9ad181b8",
   "metadata": {},
   "outputs": [
    {
     "data": {
      "text/plain": [
       "'Bronze Layer: OK. Silver Layer: OK. '"
      ]
     },
     "execution_count": 16,
     "metadata": {},
     "output_type": "execute_result"
    }
   ],
   "source": [
    "resp.json()['label']"
   ]
  }
 ],
 "metadata": {
  "kernelspec": {
   "display_name": "Python 3 (ipykernel)",
   "language": "python",
   "name": "python3"
  },
  "language_info": {
   "codemirror_mode": {
    "name": "ipython",
    "version": 3
   },
   "file_extension": ".py",
   "mimetype": "text/x-python",
   "name": "python",
   "nbconvert_exporter": "python",
   "pygments_lexer": "ipython3",
   "version": "3.9.18"
  }
 },
 "nbformat": 4,
 "nbformat_minor": 5
}
