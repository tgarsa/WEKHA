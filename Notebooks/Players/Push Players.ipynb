{
 "cells": [
  {
   "cell_type": "markdown",
   "id": "23c954eb",
   "metadata": {},
   "source": [
    "# Push Players\n",
    "\n",
    "This notebook connect with the API to load a new player into the data base."
   ]
  },
  {
   "cell_type": "code",
   "execution_count": 43,
   "id": "cef21d56",
   "metadata": {},
   "outputs": [],
   "source": [
    "# The expected imports\n",
    "\n",
    "import pandas as pd\n",
    "import numpy as np\n",
    "\n",
    "# to have access to the web service\n",
    "import requests"
   ]
  },
  {
   "cell_type": "markdown",
   "id": "a43f4ad9",
   "metadata": {},
   "source": [
    "# Define the connexion."
   ]
  },
  {
   "cell_type": "code",
   "execution_count": 44,
   "id": "bf810134",
   "metadata": {},
   "outputs": [],
   "source": [
    "# The IP of the docker server\n",
    "\n",
    "# Mac ip\n",
    "ip = \"192.168.178.36\"\n",
    "# Raspberry pi 3 IP\n",
    "# ip = \"192.168.178.172\"\n",
    "# From external connexions. \n",
    "# ip = \"saizvirtual.ddns.net\""
   ]
  },
  {
   "cell_type": "markdown",
   "id": "29a07a1e",
   "metadata": {},
   "source": [
    "## New player. \n",
    "\n",
    "Define the new player, in this case we didn't avaluate if could be a duplicate player. But whole be necessary to do. \n",
    "\n",
    "TODO: Test if it is a real new player. "
   ]
  },
  {
   "cell_type": "code",
   "execution_count": 45,
   "id": "566a2049",
   "metadata": {},
   "outputs": [],
   "source": [
    "player = {}\n",
    "player['nombre'] = 'Ignacio Antonio'\n",
    "player['apellidos'] = 'Garcia Saiz'\n",
    "player['dni'] = 2890342\n",
    "player['nick'] = 'smurf'\n",
    "player['email'] = 'tGARsa2@me.com'\n",
    "player['telefono'] = '916290534'\n",
    "player['residencia'] = 'Madrid'\n",
    "player['talla'] = 'XXL'\n",
    "player['discapacidades'] = 'Multiples'\n",
    "player['observaciones'] = 'Tonto el culo'"
   ]
  },
  {
   "cell_type": "code",
   "execution_count": 46,
   "id": "d0e03758",
   "metadata": {},
   "outputs": [],
   "source": [
    "df_player = pd.DataFrame.from_dict(player, orient='index').transpose()"
   ]
  },
  {
   "cell_type": "markdown",
   "id": "7bf1f907",
   "metadata": {},
   "source": [
    "#### player"
   ]
  },
  {
   "cell_type": "code",
   "execution_count": 47,
   "id": "277664a7",
   "metadata": {},
   "outputs": [
    {
     "data": {
      "text/html": [
       "<div>\n",
       "<style scoped>\n",
       "    .dataframe tbody tr th:only-of-type {\n",
       "        vertical-align: middle;\n",
       "    }\n",
       "\n",
       "    .dataframe tbody tr th {\n",
       "        vertical-align: top;\n",
       "    }\n",
       "\n",
       "    .dataframe thead th {\n",
       "        text-align: right;\n",
       "    }\n",
       "</style>\n",
       "<table border=\"1\" class=\"dataframe\">\n",
       "  <thead>\n",
       "    <tr style=\"text-align: right;\">\n",
       "      <th></th>\n",
       "      <th>nombre</th>\n",
       "      <th>apellidos</th>\n",
       "      <th>dni</th>\n",
       "      <th>nick</th>\n",
       "      <th>email</th>\n",
       "      <th>telefono</th>\n",
       "      <th>residencia</th>\n",
       "      <th>talla</th>\n",
       "      <th>discapacidades</th>\n",
       "      <th>observaciones</th>\n",
       "    </tr>\n",
       "  </thead>\n",
       "  <tbody>\n",
       "    <tr>\n",
       "      <th>0</th>\n",
       "      <td>Ignacio Antonio</td>\n",
       "      <td>Garcia Saiz</td>\n",
       "      <td>2890342</td>\n",
       "      <td>smurf</td>\n",
       "      <td>tGARsa2@me.com</td>\n",
       "      <td>916290534</td>\n",
       "      <td>Madrid</td>\n",
       "      <td>XXL</td>\n",
       "      <td>Multiples</td>\n",
       "      <td>Tonto el culo</td>\n",
       "    </tr>\n",
       "  </tbody>\n",
       "</table>\n",
       "</div>"
      ],
      "text/plain": [
       "            nombre    apellidos      dni   nick           email   telefono  \\\n",
       "0  Ignacio Antonio  Garcia Saiz  2890342  smurf  tGARsa2@me.com  916290534   \n",
       "\n",
       "  residencia talla discapacidades  observaciones  \n",
       "0     Madrid   XXL      Multiples  Tonto el culo  "
      ]
     },
     "execution_count": 47,
     "metadata": {},
     "output_type": "execute_result"
    }
   ],
   "source": [
    "df_player"
   ]
  },
  {
   "cell_type": "code",
   "execution_count": 48,
   "id": "224565bc",
   "metadata": {},
   "outputs": [],
   "source": [
    "df_json = df_player.to_json()"
   ]
  },
  {
   "cell_type": "code",
   "execution_count": 49,
   "id": "a6ce3448",
   "metadata": {},
   "outputs": [
    {
     "data": {
      "text/plain": [
       "'{\"nombre\":{\"0\":\"Ignacio Antonio\"},\"apellidos\":{\"0\":\"Garcia Saiz\"},\"dni\":{\"0\":2890342},\"nick\":{\"0\":\"smurf\"},\"email\":{\"0\":\"tGARsa2@me.com\"},\"telefono\":{\"0\":\"916290534\"},\"residencia\":{\"0\":\"Madrid\"},\"talla\":{\"0\":\"XXL\"},\"discapacidades\":{\"0\":\"Multiples\"},\"observaciones\":{\"0\":\"Tonto el culo\"}}'"
      ]
     },
     "execution_count": 49,
     "metadata": {},
     "output_type": "execute_result"
    }
   ],
   "source": [
    "df_json"
   ]
  },
  {
   "cell_type": "code",
   "execution_count": 50,
   "id": "18869711",
   "metadata": {},
   "outputs": [
    {
     "name": "stdout",
     "output_type": "stream",
     "text": [
      "tGARsa2@me.com\n"
     ]
    }
   ],
   "source": [
    "a = df_player.iloc[0]['email']\n",
    "print(a)"
   ]
  },
  {
   "cell_type": "code",
   "execution_count": 51,
   "id": "81b9e231",
   "metadata": {},
   "outputs": [
    {
     "data": {
      "text/plain": [
       "'tgarsa2@me.com'"
      ]
     },
     "execution_count": 51,
     "metadata": {},
     "output_type": "execute_result"
    }
   ],
   "source": [
    "a.lower()"
   ]
  },
  {
   "cell_type": "markdown",
   "id": "d8c94fec",
   "metadata": {},
   "source": [
    "# Load the player\n",
    "\n",
    "\n",
    "To load into the Database, acrross the API"
   ]
  },
  {
   "cell_type": "code",
   "execution_count": 52,
   "id": "2689d55c",
   "metadata": {},
   "outputs": [],
   "source": [
    "# URLs to connected with the app-service\n",
    "# in this case the port is \n",
    "\n",
    "url = 'http://{}:5000/new_player'.format(ip)"
   ]
  },
  {
   "cell_type": "code",
   "execution_count": 53,
   "id": "3ed287eb",
   "metadata": {},
   "outputs": [
    {
     "data": {
      "text/plain": [
       "'http://192.168.178.36:5000/new_player'"
      ]
     },
     "execution_count": 53,
     "metadata": {},
     "output_type": "execute_result"
    }
   ],
   "source": [
    "url"
   ]
  },
  {
   "cell_type": "code",
   "execution_count": 54,
   "id": "7781e4ec",
   "metadata": {
    "scrolled": false
   },
   "outputs": [],
   "source": [
    "resp = requests.post(url, json={'df_json': df_json})"
   ]
  },
  {
   "cell_type": "code",
   "execution_count": 55,
   "id": "702599ee",
   "metadata": {},
   "outputs": [
    {
     "data": {
      "text/plain": [
       "<Response [200]>"
      ]
     },
     "execution_count": 55,
     "metadata": {},
     "output_type": "execute_result"
    }
   ],
   "source": [
    "resp"
   ]
  },
  {
   "cell_type": "code",
   "execution_count": 56,
   "id": "c8319e10",
   "metadata": {},
   "outputs": [
    {
     "data": {
      "text/plain": [
       "{'label': 'Los campos dni, email, telefono tienen valores previamente almacenados.'}"
      ]
     },
     "execution_count": 56,
     "metadata": {},
     "output_type": "execute_result"
    }
   ],
   "source": [
    "resp.json()"
   ]
  }
 ],
 "metadata": {
  "kernelspec": {
   "display_name": "Python 3 (ipykernel)",
   "language": "python",
   "name": "python3"
  },
  "language_info": {
   "codemirror_mode": {
    "name": "ipython",
    "version": 3
   },
   "file_extension": ".py",
   "mimetype": "text/x-python",
   "name": "python",
   "nbconvert_exporter": "python",
   "pygments_lexer": "ipython3",
   "version": "3.9.18"
  }
 },
 "nbformat": 4,
 "nbformat_minor": 5
}
