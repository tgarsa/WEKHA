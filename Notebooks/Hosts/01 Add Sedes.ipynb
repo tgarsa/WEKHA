{
 "cells": [
  {
   "cell_type": "markdown",
   "id": "23c954eb",
   "metadata": {},
   "source": [
    "# Push hostss\n",
    "\n",
    "This notebook connect with the API to load a new hosts into the data base."
   ]
  },
  {
   "cell_type": "code",
   "execution_count": 133,
   "id": "cef21d56",
   "metadata": {},
   "outputs": [],
   "source": [
    "# The expected imports\n",
    "\n",
    "import pandas as pd\n",
    "import numpy as np\n",
    "\n",
    "# to have access to the web service\n",
    "import requests"
   ]
  },
  {
   "cell_type": "markdown",
   "id": "a43f4ad9",
   "metadata": {},
   "source": [
    "# Define the connexion."
   ]
  },
  {
   "cell_type": "code",
   "execution_count": 134,
   "id": "bf810134",
   "metadata": {},
   "outputs": [],
   "source": [
    "# The IP of the docker server\n",
    "\n",
    "# Mac ip\n",
    "ip = \"192.168.178.36\"\n",
    "# Raspberry pi 3 IP\n",
    "# ip = \"192.168.178.172\"\n",
    "# From external connexions. \n",
    "# ip = \"saizvirtual.ddns.net\""
   ]
  },
  {
   "cell_type": "markdown",
   "id": "29a07a1e",
   "metadata": {},
   "source": [
    "## New Hosts (Sede). \n",
    "\n",
    "Define the new hosts"
   ]
  },
  {
   "cell_type": "code",
   "execution_count": 135,
   "id": "f43e1524",
   "metadata": {},
   "outputs": [],
   "source": [
    "hosts = {}\n",
    "# hosts['edificio'] = \n",
    "hosts['provincia'] = 'Malaga'\n",
    "hosts['localidad'] = 'Estepona'\n",
    "hosts['postal'] = '29680'\n",
    "hosts['calle'] = 'Av. Juan Carlos I'\n",
    "hosts['numero'] = 40\n",
    "hosts['anadido'] = 'Centro Civico'\n",
    "hosts['accesible'] = True\n",
    "hosts['tamano'] = 60\n",
    "# hosts['observaciones'] = "
   ]
  },
  {
   "cell_type": "code",
   "execution_count": 136,
   "id": "d0e03758",
   "metadata": {},
   "outputs": [],
   "source": [
    "df_hosts = pd.DataFrame.from_dict(hosts, orient='index').transpose()"
   ]
  },
  {
   "cell_type": "markdown",
   "id": "7bf1f907",
   "metadata": {},
   "source": [
    "#### hosts"
   ]
  },
  {
   "cell_type": "code",
   "execution_count": 137,
   "id": "277664a7",
   "metadata": {},
   "outputs": [],
   "source": [
    "# df_hosts"
   ]
  },
  {
   "cell_type": "code",
   "execution_count": 138,
   "id": "224565bc",
   "metadata": {},
   "outputs": [],
   "source": [
    "df_json = df_hosts.to_json()"
   ]
  },
  {
   "cell_type": "code",
   "execution_count": 139,
   "id": "a6ce3448",
   "metadata": {},
   "outputs": [],
   "source": [
    "# df_json"
   ]
  },
  {
   "cell_type": "markdown",
   "id": "d8c94fec",
   "metadata": {},
   "source": [
    "# Load the hosts\n",
    "\n",
    "\n",
    "To load into the Database, acrross the API"
   ]
  },
  {
   "cell_type": "code",
   "execution_count": 140,
   "id": "2689d55c",
   "metadata": {},
   "outputs": [],
   "source": [
    "# URLs to connected with the app-service\n",
    "# in this case the port is \n",
    "\n",
    "url = 'http://{}:5000/new_sede'.format(ip)"
   ]
  },
  {
   "cell_type": "code",
   "execution_count": 141,
   "id": "3ed287eb",
   "metadata": {},
   "outputs": [
    {
     "data": {
      "text/plain": [
       "'http://192.168.178.36:5000/new_sede'"
      ]
     },
     "execution_count": 141,
     "metadata": {},
     "output_type": "execute_result"
    }
   ],
   "source": [
    "url"
   ]
  },
  {
   "cell_type": "code",
   "execution_count": 142,
   "id": "7781e4ec",
   "metadata": {
    "scrolled": false
   },
   "outputs": [],
   "source": [
    "resp = requests.post(url, json={'df_json': df_json})"
   ]
  },
  {
   "cell_type": "code",
   "execution_count": 143,
   "id": "702599ee",
   "metadata": {},
   "outputs": [
    {
     "data": {
      "text/plain": [
       "<Response [200]>"
      ]
     },
     "execution_count": 143,
     "metadata": {},
     "output_type": "execute_result"
    }
   ],
   "source": [
    "resp"
   ]
  },
  {
   "cell_type": "code",
   "execution_count": 144,
   "id": "c8319e10",
   "metadata": {},
   "outputs": [
    {
     "data": {
      "text/plain": [
       "'Done it'"
      ]
     },
     "execution_count": 144,
     "metadata": {},
     "output_type": "execute_result"
    }
   ],
   "source": [
    "resp.json()['label']"
   ]
  },
  {
   "cell_type": "code",
   "execution_count": null,
   "id": "623a33a1",
   "metadata": {},
   "outputs": [],
   "source": []
  }
 ],
 "metadata": {
  "kernelspec": {
   "display_name": "Python 3 (ipykernel)",
   "language": "python",
   "name": "python3"
  },
  "language_info": {
   "codemirror_mode": {
    "name": "ipython",
    "version": 3
   },
   "file_extension": ".py",
   "mimetype": "text/x-python",
   "name": "python",
   "nbconvert_exporter": "python",
   "pygments_lexer": "ipython3",
   "version": "3.9.18"
  }
 },
 "nbformat": 4,
 "nbformat_minor": 5
}
