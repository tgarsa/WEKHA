{
 "cells": [
  {
   "cell_type": "markdown",
   "id": "f0dd9623",
   "metadata": {},
   "source": [
    "# Get Player data.\n",
    "\n",
    "In this notebook we will connect to the API to download teh data of the players tio have some condittions."
   ]
  },
  {
   "cell_type": "code",
   "execution_count": null,
   "id": "45dd6d6d",
   "metadata": {},
   "outputs": [],
   "source": [
    "# The expected imports\n",
    "\n",
    "import pandas as pd\n",
    "import numpy as np\n",
    "\n",
    "# to have access to the web service\n",
    "import requests"
   ]
  },
  {
   "cell_type": "markdown",
   "id": "668bd5f2",
   "metadata": {},
   "source": [
    "# Define the connexion."
   ]
  },
  {
   "cell_type": "code",
   "execution_count": null,
   "id": "5b86a315",
   "metadata": {},
   "outputs": [],
   "source": [
    "# The IP of the docker server\n",
    "\n",
    "# Mac ip\n",
    "ip = \"192.168.178.36\"\n",
    "# From external connexions. \n",
    "# ip = \"saizvirtual.ddns.net\""
   ]
  },
  {
   "cell_type": "markdown",
   "id": "854a3718",
   "metadata": {},
   "source": [
    "# Get Token"
   ]
  },
  {
   "cell_type": "code",
   "execution_count": null,
   "id": "2a3377ef",
   "metadata": {},
   "outputs": [],
   "source": [
    "# URLs to connected with the API-service\n",
    "url = 'http://{}:5000/token'.format(ip)"
   ]
  },
  {
   "cell_type": "code",
   "execution_count": null,
   "id": "a7997c96",
   "metadata": {},
   "outputs": [],
   "source": [
    "# Send User and Paswword\n",
    "resp = requests.post(url, \n",
    "                     data={'username': 'tgarsa',\n",
    "                           'password':'secret'}\n",
    "                    )\n",
    "# resp = requests.post(url, data={'username': 'alice', 'password':'secret'})\n",
    "resp"
   ]
  },
  {
   "cell_type": "code",
   "execution_count": null,
   "id": "7f83ca24",
   "metadata": {},
   "outputs": [],
   "source": [
    "token = resp.json()['access_token']\n",
    "# print('Token: {}'.format(token))\n",
    "\n",
    "token_type = resp.json()['token_type']\n",
    "# print('Token Type: {}'.format(token_type))"
   ]
  },
  {
   "cell_type": "markdown",
   "id": "1e813502",
   "metadata": {},
   "source": [
    "## Define the Header"
   ]
  },
  {
   "cell_type": "code",
   "execution_count": null,
   "id": "47bbfd72",
   "metadata": {},
   "outputs": [],
   "source": [
    "headers = {\"Authorization\": \"{} {}\".format(token_type, token)}"
   ]
  },
  {
   "cell_type": "code",
   "execution_count": null,
   "id": "dda9afda",
   "metadata": {},
   "outputs": [],
   "source": [
    "# headers"
   ]
  },
  {
   "cell_type": "markdown",
   "id": "65035bb6",
   "metadata": {},
   "source": [
    "## Define the search "
   ]
  },
  {
   "cell_type": "code",
   "execution_count": null,
   "id": "06dc545e",
   "metadata": {},
   "outputs": [],
   "source": [
    "search ={}\n",
    "search['provincia'] = 'Madrid'\n",
    "# search['provincia'] = 'Cantabria'\n",
    "# search['provincias'] = 'Cantabria'\n",
    "# search['localidad'] = 'Estepona'\n",
    "# search['postal'] = '29680'\n",
    "# search['calle'] = 'Av. Juan Carlos I'\n",
    "# search['numero'] = 40\n",
    "# search['anadido'] = 'Sala Expopsiciones Rafael Mariscal'\n",
    "# search['accesible'] = True\n",
    "# search['tamano'] = 150\n",
    "\n",
    "dj_search = pd.DataFrame.from_dict(search, orient='index').transpose()\n",
    "json_search = dj_search.to_json()"
   ]
  },
  {
   "cell_type": "markdown",
   "id": "6ee776b6",
   "metadata": {},
   "source": [
    "# Connect to the API"
   ]
  },
  {
   "cell_type": "code",
   "execution_count": null,
   "id": "83555dd5",
   "metadata": {},
   "outputs": [],
   "source": [
    "# URLs to connected with the app-service\n",
    "# in this case the port is \n",
    "\n",
    "url = 'http://{}:5000/get'.format(ip)"
   ]
  },
  {
   "cell_type": "code",
   "execution_count": null,
   "id": "1ad7538a",
   "metadata": {},
   "outputs": [],
   "source": [
    "url"
   ]
  },
  {
   "cell_type": "code",
   "execution_count": null,
   "id": "d12e8bc9",
   "metadata": {},
   "outputs": [],
   "source": [
    "# Send the request with the data and the security headers\n",
    "resp = requests.get(url,\n",
    "                    headers=headers, \n",
    "                    json={'df_json': json_search, \n",
    "                         'table':'sedes'}\n",
    "                   )"
   ]
  },
  {
   "cell_type": "code",
   "execution_count": null,
   "id": "5365b689",
   "metadata": {},
   "outputs": [],
   "source": [
    "resp"
   ]
  },
  {
   "cell_type": "code",
   "execution_count": null,
   "id": "51a043d5",
   "metadata": {},
   "outputs": [],
   "source": [
    "resp.reason"
   ]
  },
  {
   "cell_type": "code",
   "execution_count": null,
   "id": "aaedbefb",
   "metadata": {
    "scrolled": false
   },
   "outputs": [],
   "source": [
    "resp.json()"
   ]
  },
  {
   "cell_type": "markdown",
   "id": "db826c3d",
   "metadata": {},
   "source": [
    "[[6,\n",
    "  'Madrid001',\n",
    "  None,\n",
    "  'Madrid',\n",
    "  'Algete',\n",
    "  28110,\n",
    "  'Valserrano',\n",
    "  46,\n",
    "  'Proteccion Cívil',\n",
    "  True,\n",
    "  500,\n",
    "  None,\n",
    "  '2024-03-27T17:10:36.120684',\n",
    "  '2024-03-27T17:10:36.120684']]\n"
   ]
  }
 ],
 "metadata": {
  "kernelspec": {
   "display_name": "Python 3 (ipykernel)",
   "language": "python",
   "name": "python3"
  },
  "language_info": {
   "codemirror_mode": {
    "name": "ipython",
    "version": 3
   },
   "file_extension": ".py",
   "mimetype": "text/x-python",
   "name": "python",
   "nbconvert_exporter": "python",
   "pygments_lexer": "ipython3",
   "version": "3.9.18"
  }
 },
 "nbformat": 4,
 "nbformat_minor": 5
}
