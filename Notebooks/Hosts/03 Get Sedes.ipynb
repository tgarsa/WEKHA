{
 "cells": [
  {
   "cell_type": "markdown",
   "id": "f0dd9623",
   "metadata": {},
   "source": [
    "# Get Player data.\n",
    "\n",
    "In this notebook we will connect to the API to download teh data of the players tio have some condittions."
   ]
  },
  {
   "cell_type": "code",
   "execution_count": 33,
   "id": "45dd6d6d",
   "metadata": {},
   "outputs": [],
   "source": [
    "# The expected imports\n",
    "\n",
    "import pandas as pd\n",
    "import numpy as np\n",
    "\n",
    "# to have access to the web service\n",
    "import requests"
   ]
  },
  {
   "cell_type": "markdown",
   "id": "668bd5f2",
   "metadata": {},
   "source": [
    "# Define the connexion."
   ]
  },
  {
   "cell_type": "code",
   "execution_count": 34,
   "id": "5b86a315",
   "metadata": {},
   "outputs": [],
   "source": [
    "# The IP of the docker server\n",
    "\n",
    "# Mac ip\n",
    "ip = \"192.168.178.36\"\n",
    "# Raspberry pi 3 IP\n",
    "# ip = \"192.168.178.172\"\n",
    "# From external connexions. \n",
    "# ip = \"saizvirtual.ddns.net\""
   ]
  },
  {
   "cell_type": "markdown",
   "id": "65035bb6",
   "metadata": {},
   "source": [
    "## Define the search "
   ]
  },
  {
   "cell_type": "code",
   "execution_count": 35,
   "id": "06dc545e",
   "metadata": {},
   "outputs": [],
   "source": [
    "search ={}\n",
    "search['provincia'] = 'Malaga'\n",
    "# search['localidad'] = 'Estepona'\n",
    "# search['postal'] = '29680'\n",
    "# search['calle'] = 'Av. Juan Carlos I'\n",
    "# search['numero'] = 40\n",
    "# search['anadido'] = 'Sala Expopsiciones Rafael Mariscal'\n",
    "# search['accesible'] = True\n",
    "# search['tamano'] = 150\n",
    "\n",
    "dj_search = pd.DataFrame.from_dict(search, orient='index').transpose()\n",
    "json_search = dj_search.to_json()"
   ]
  },
  {
   "cell_type": "markdown",
   "id": "6ee776b6",
   "metadata": {},
   "source": [
    "# Connect to the API"
   ]
  },
  {
   "cell_type": "code",
   "execution_count": 36,
   "id": "83555dd5",
   "metadata": {},
   "outputs": [],
   "source": [
    "# URLs to connected with the app-service\n",
    "# in this case the port is \n",
    "\n",
    "url = 'http://{}:5000/get_sede'.format(ip)"
   ]
  },
  {
   "cell_type": "code",
   "execution_count": 37,
   "id": "1ad7538a",
   "metadata": {},
   "outputs": [
    {
     "data": {
      "text/plain": [
       "'http://192.168.178.36:5000/get_sede'"
      ]
     },
     "execution_count": 37,
     "metadata": {},
     "output_type": "execute_result"
    }
   ],
   "source": [
    "url"
   ]
  },
  {
   "cell_type": "code",
   "execution_count": 38,
   "id": "d12e8bc9",
   "metadata": {},
   "outputs": [],
   "source": [
    "resp = requests.get(url, json={'df_json': json_search})"
   ]
  },
  {
   "cell_type": "code",
   "execution_count": 39,
   "id": "5365b689",
   "metadata": {},
   "outputs": [
    {
     "data": {
      "text/plain": [
       "<Response [200]>"
      ]
     },
     "execution_count": 39,
     "metadata": {},
     "output_type": "execute_result"
    }
   ],
   "source": [
    "resp"
   ]
  },
  {
   "cell_type": "code",
   "execution_count": 40,
   "id": "aaedbefb",
   "metadata": {},
   "outputs": [
    {
     "data": {
      "text/plain": [
       "[[2,\n",
       "  'Malaga001',\n",
       "  None,\n",
       "  'Malaga',\n",
       "  'Estepona',\n",
       "  29680,\n",
       "  'Avenida Juan Carlos I',\n",
       "  40,\n",
       "  'Sala Exposiciones Rafael Mariscal',\n",
       "  True,\n",
       "  150,\n",
       "  None,\n",
       "  '2024-03-26T18:41:55.497753',\n",
       "  '2024-03-26T19:11:52.940570'],\n",
       " [3,\n",
       "  'Malaga002',\n",
       "  None,\n",
       "  'Malaga',\n",
       "  'Estepona',\n",
       "  29680,\n",
       "  'Av. Juan Carlos I',\n",
       "  40,\n",
       "  'Centro Civico',\n",
       "  True,\n",
       "  60,\n",
       "  None,\n",
       "  '2024-03-26T19:12:23.459260',\n",
       "  '2024-03-26T19:12:23.459260']]"
      ]
     },
     "execution_count": 40,
     "metadata": {},
     "output_type": "execute_result"
    }
   ],
   "source": [
    "resp.json()"
   ]
  }
 ],
 "metadata": {
  "kernelspec": {
   "display_name": "Python 3 (ipykernel)",
   "language": "python",
   "name": "python3"
  },
  "language_info": {
   "codemirror_mode": {
    "name": "ipython",
    "version": 3
   },
   "file_extension": ".py",
   "mimetype": "text/x-python",
   "name": "python",
   "nbconvert_exporter": "python",
   "pygments_lexer": "ipython3",
   "version": "3.9.18"
  }
 },
 "nbformat": 4,
 "nbformat_minor": 5
}
