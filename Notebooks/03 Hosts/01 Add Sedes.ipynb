{
 "cells": [
  {
   "cell_type": "markdown",
   "id": "23c954eb",
   "metadata": {},
   "source": [
    "# Push hostss\n",
    "\n",
    "This notebook connect with the API to load a new hosts into the data base."
   ]
  },
  {
   "cell_type": "code",
   "execution_count": null,
   "id": "cef21d56",
   "metadata": {},
   "outputs": [],
   "source": [
    "# The expected imports\n",
    "\n",
    "import pandas as pd\n",
    "import numpy as np\n",
    "\n",
    "# to have access to the web service\n",
    "import requests"
   ]
  },
  {
   "cell_type": "markdown",
   "id": "a43f4ad9",
   "metadata": {},
   "source": [
    "# Define the connexion."
   ]
  },
  {
   "cell_type": "code",
   "execution_count": null,
   "id": "bf810134",
   "metadata": {},
   "outputs": [],
   "source": [
    "# The IP of the docker server\n",
    "\n",
    "# Mac ip\n",
    "# ip = \"192.168.178.36\"\n",
    "# From external connexions. \n",
    "ip = \"saizvirtual.ddns.net\""
   ]
  },
  {
   "cell_type": "markdown",
   "id": "a2fbe1f2",
   "metadata": {},
   "source": [
    "# Get Token"
   ]
  },
  {
   "cell_type": "code",
   "execution_count": null,
   "id": "51d2ef4d",
   "metadata": {},
   "outputs": [],
   "source": [
    "# URLs to connected with the API-service\n",
    "url = 'http://{}:5000/token'.format(ip)"
   ]
  },
  {
   "cell_type": "code",
   "execution_count": null,
   "id": "a251bfcf",
   "metadata": {},
   "outputs": [],
   "source": [
    "# Send User and Paswword\n",
    "resp = requests.post(url, \n",
    "                     data={'username': 'tgarsa',\n",
    "                           'password':'secret'}\n",
    "                    )\n",
    "# resp = requests.post(url, data={'username': 'alice', 'password':'secret'})\n",
    "resp"
   ]
  },
  {
   "cell_type": "code",
   "execution_count": null,
   "id": "33ffbf2d",
   "metadata": {},
   "outputs": [],
   "source": [
    "token = resp.json()['access_token']\n",
    "# print('Token: {}'.format(token))\n",
    "\n",
    "token_type = resp.json()['token_type']\n",
    "# print('Token Type: {}'.format(token_type))"
   ]
  },
  {
   "cell_type": "markdown",
   "id": "1820a56f",
   "metadata": {},
   "source": [
    "## Define the Header"
   ]
  },
  {
   "cell_type": "code",
   "execution_count": null,
   "id": "c962251a",
   "metadata": {},
   "outputs": [],
   "source": [
    "headers = {\"Authorization\": \"{} {}\".format(token_type, token)}"
   ]
  },
  {
   "cell_type": "code",
   "execution_count": null,
   "id": "1d0f521f",
   "metadata": {},
   "outputs": [],
   "source": [
    "# headers"
   ]
  },
  {
   "cell_type": "markdown",
   "id": "29a07a1e",
   "metadata": {},
   "source": [
    "## New Hosts (Sede). \n",
    "\n",
    "Define the new hosts"
   ]
  },
  {
   "cell_type": "code",
   "execution_count": null,
   "id": "f43e1524",
   "metadata": {},
   "outputs": [],
   "source": [
    "# hosts = {}\n",
    "# # hosts['edificio'] = \n",
    "# hosts['provincia'] = 'Malaga'\n",
    "# hosts['localidad'] = 'Estepona'\n",
    "# hosts['postal'] = '29680'\n",
    "# hosts['calle'] = 'Av. Juan Carlos I'\n",
    "# hosts['numero'] = 40\n",
    "# # hosts['anadido'] = 'Centro Civico'\n",
    "# hosts['anadido'] = 'Sala Expopsiciones Rafael Mariscal'\n",
    "# hosts['accesible'] = True\n",
    "# hosts['tamano'] = 60\n",
    "# # hosts['observaciones'] = "
   ]
  },
  {
   "cell_type": "code",
   "execution_count": null,
   "id": "89f53cd8",
   "metadata": {},
   "outputs": [],
   "source": [
    "# hosts = {}\n",
    "# hosts['edificio'] = 'Palacio Episcopal'\n",
    "# hosts['provincia'] = 'Cantabria'\n",
    "# hosts['localidad'] = 'Cabezon de la Sal'\n",
    "# hosts['postal'] = '39500'\n",
    "# hosts['calle'] = 'Sol'\n",
    "# hosts['numero'] = 40\n",
    "# # hosts['anadido'] = \n",
    "# hosts['accesible'] = False\n",
    "# hosts['tamano'] = 500\n",
    "# # hosts['observaciones'] = "
   ]
  },
  {
   "cell_type": "code",
   "execution_count": null,
   "id": "d77f93b8",
   "metadata": {},
   "outputs": [],
   "source": [
    "# hosts = {}\n",
    "# hosts['edificio'] = 'Palacio Bustamante'\n",
    "# hosts['provincia'] = 'Cantabria'\n",
    "# hosts['localidad'] = 'Alceda'\n",
    "# hosts['postal'] = '39680'\n",
    "# hosts['calle'] = 'Carretera de Burgos'\n",
    "# hosts['numero'] = 143\n",
    "# # hosts['anadido'] = \n",
    "# hosts['accesible'] = False\n",
    "# hosts['tamano'] = 50\n",
    "# # hosts['observaciones'] = "
   ]
  },
  {
   "cell_type": "code",
   "execution_count": null,
   "id": "5db45b2d",
   "metadata": {},
   "outputs": [],
   "source": [
    "hosts = {}\n",
    "hosts['edificio'] = 'El Areanl'\n",
    "hosts['provincia'] = 'Madrid'\n",
    "hosts['localidad'] = 'Algete'\n",
    "hosts['postal'] = '28110'\n",
    "hosts['calle'] = 'C. del Retamar'\n",
    "hosts['numero'] = 1\n",
    "hosts['anadido'] = \"Plaza de Toros\" \n",
    "hosts['accesible'] = True\n",
    "hosts['tamano'] = 5000\n",
    "hosts['observaciones'] = 'Descubierta'"
   ]
  },
  {
   "cell_type": "code",
   "execution_count": null,
   "id": "d0e03758",
   "metadata": {},
   "outputs": [],
   "source": [
    "df_hosts = pd.DataFrame.from_dict(hosts, orient='index').transpose()"
   ]
  },
  {
   "cell_type": "markdown",
   "id": "7bf1f907",
   "metadata": {},
   "source": [
    "#### hosts"
   ]
  },
  {
   "cell_type": "code",
   "execution_count": null,
   "id": "277664a7",
   "metadata": {},
   "outputs": [],
   "source": [
    "# df_hosts"
   ]
  },
  {
   "cell_type": "code",
   "execution_count": null,
   "id": "224565bc",
   "metadata": {},
   "outputs": [],
   "source": [
    "df_json = df_hosts.to_json()"
   ]
  },
  {
   "cell_type": "code",
   "execution_count": null,
   "id": "a6ce3448",
   "metadata": {},
   "outputs": [],
   "source": [
    "# df_json"
   ]
  },
  {
   "cell_type": "markdown",
   "id": "d8c94fec",
   "metadata": {},
   "source": [
    "# Load the hosts\n",
    "\n",
    "\n",
    "To load into the Database, acrross the API"
   ]
  },
  {
   "cell_type": "code",
   "execution_count": null,
   "id": "2689d55c",
   "metadata": {},
   "outputs": [],
   "source": [
    "# URLs to connected with the app-service\n",
    "# in this case the port is \n",
    "\n",
    "url = 'http://{}:5000/new'.format(ip)"
   ]
  },
  {
   "cell_type": "code",
   "execution_count": null,
   "id": "3ed287eb",
   "metadata": {},
   "outputs": [],
   "source": [
    "url"
   ]
  },
  {
   "cell_type": "code",
   "execution_count": null,
   "id": "7781e4ec",
   "metadata": {
    "scrolled": false
   },
   "outputs": [],
   "source": [
    "resp = requests.post(url, \n",
    "                     json={'df_json': df_json, \n",
    "                           'table':'sedes'},\n",
    "                    headers=headers\n",
    "                    )"
   ]
  },
  {
   "cell_type": "code",
   "execution_count": null,
   "id": "702599ee",
   "metadata": {},
   "outputs": [],
   "source": [
    "resp"
   ]
  },
  {
   "cell_type": "code",
   "execution_count": null,
   "id": "c8319e10",
   "metadata": {},
   "outputs": [],
   "source": [
    "resp.json()['label']"
   ]
  },
  {
   "cell_type": "code",
   "execution_count": null,
   "id": "623a33a1",
   "metadata": {},
   "outputs": [],
   "source": []
  }
 ],
 "metadata": {
  "kernelspec": {
   "display_name": "Python 3 (ipykernel)",
   "language": "python",
   "name": "python3"
  },
  "language_info": {
   "codemirror_mode": {
    "name": "ipython",
    "version": 3
   },
   "file_extension": ".py",
   "mimetype": "text/x-python",
   "name": "python",
   "nbconvert_exporter": "python",
   "pygments_lexer": "ipython3",
   "version": "3.9.18"
  }
 },
 "nbformat": 4,
 "nbformat_minor": 5
}
